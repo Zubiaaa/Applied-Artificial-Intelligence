{
 "cells": [
  {
   "cell_type": "code",
   "execution_count": 1,
   "id": "52675639",
   "metadata": {},
   "outputs": [],
   "source": [
    "############## Importing Libraries ##############\n",
    "import pandas as pd\n",
    "import numpy as np\n",
    "import seaborn as sns"
   ]
  },
  {
   "cell_type": "code",
   "execution_count": 2,
   "id": "31e40944",
   "metadata": {},
   "outputs": [],
   "source": [
    "# Strings \"?\" to recognize as NA/NaN\n",
    "missing_value_formats = [\"?\"]"
   ]
  },
  {
   "cell_type": "code",
   "execution_count": 3,
   "id": "1cf853b4",
   "metadata": {},
   "outputs": [],
   "source": [
    "############## Importing Dataset ##############\n",
    "dataset = pd.read_csv('cell2celltrain_Small_6k.csv', na_values = missing_value_formats)"
   ]
  },
  {
   "cell_type": "markdown",
   "id": "1e1cfcec",
   "metadata": {},
   "source": [
    "## General Data Exploration"
   ]
  },
  {
   "cell_type": "code",
   "execution_count": 4,
   "id": "d2a30c77",
   "metadata": {},
   "outputs": [
    {
     "data": {
      "text/html": [
       "<div>\n",
       "<style scoped>\n",
       "    .dataframe tbody tr th:only-of-type {\n",
       "        vertical-align: middle;\n",
       "    }\n",
       "\n",
       "    .dataframe tbody tr th {\n",
       "        vertical-align: top;\n",
       "    }\n",
       "\n",
       "    .dataframe thead th {\n",
       "        text-align: right;\n",
       "    }\n",
       "</style>\n",
       "<table border=\"1\" class=\"dataframe\">\n",
       "  <thead>\n",
       "    <tr style=\"text-align: right;\">\n",
       "      <th></th>\n",
       "      <th>MonthlyRevenue</th>\n",
       "      <th>MonthlyMinutes</th>\n",
       "      <th>TotalRecurringCharge</th>\n",
       "      <th>DirectorAssistedCalls</th>\n",
       "      <th>OverageMinutes</th>\n",
       "      <th>RoamingCalls</th>\n",
       "      <th>PercChangeMinutes</th>\n",
       "      <th>PercChangeRevenues</th>\n",
       "      <th>DroppedCalls</th>\n",
       "      <th>BlockedCalls</th>\n",
       "      <th>...</th>\n",
       "      <th>IncomeGroup</th>\n",
       "      <th>OwnsMotorcycle</th>\n",
       "      <th>AdjustmentsToCreditRating</th>\n",
       "      <th>HandsetPrice</th>\n",
       "      <th>MadeCallToRetentionTeam</th>\n",
       "      <th>CreditRating</th>\n",
       "      <th>PrizmCode</th>\n",
       "      <th>Occupation</th>\n",
       "      <th>MaritalStatus</th>\n",
       "      <th>Churn</th>\n",
       "    </tr>\n",
       "  </thead>\n",
       "  <tbody>\n",
       "    <tr>\n",
       "      <th>0</th>\n",
       "      <td>30.88</td>\n",
       "      <td>436.0</td>\n",
       "      <td>30.0</td>\n",
       "      <td>0.25</td>\n",
       "      <td>1.0</td>\n",
       "      <td>0.0</td>\n",
       "      <td>-112.0</td>\n",
       "      <td>0.1</td>\n",
       "      <td>11.0</td>\n",
       "      <td>0.3</td>\n",
       "      <td>...</td>\n",
       "      <td>8</td>\n",
       "      <td>No</td>\n",
       "      <td>0</td>\n",
       "      <td>150.0</td>\n",
       "      <td>No</td>\n",
       "      <td>2-High</td>\n",
       "      <td>Other</td>\n",
       "      <td>Other</td>\n",
       "      <td>Yes</td>\n",
       "      <td>Yes</td>\n",
       "    </tr>\n",
       "    <tr>\n",
       "      <th>1</th>\n",
       "      <td>44.83</td>\n",
       "      <td>172.0</td>\n",
       "      <td>45.0</td>\n",
       "      <td>0.00</td>\n",
       "      <td>0.0</td>\n",
       "      <td>0.0</td>\n",
       "      <td>-12.0</td>\n",
       "      <td>-15.5</td>\n",
       "      <td>0.3</td>\n",
       "      <td>0.3</td>\n",
       "      <td>...</td>\n",
       "      <td>7</td>\n",
       "      <td>No</td>\n",
       "      <td>0</td>\n",
       "      <td>80.0</td>\n",
       "      <td>No</td>\n",
       "      <td>2-High</td>\n",
       "      <td>Suburban</td>\n",
       "      <td>Other</td>\n",
       "      <td>No</td>\n",
       "      <td>No</td>\n",
       "    </tr>\n",
       "    <tr>\n",
       "      <th>2</th>\n",
       "      <td>42.63</td>\n",
       "      <td>838.0</td>\n",
       "      <td>50.0</td>\n",
       "      <td>0.74</td>\n",
       "      <td>5.0</td>\n",
       "      <td>0.0</td>\n",
       "      <td>28.0</td>\n",
       "      <td>-2.6</td>\n",
       "      <td>4.7</td>\n",
       "      <td>6.3</td>\n",
       "      <td>...</td>\n",
       "      <td>0</td>\n",
       "      <td>No</td>\n",
       "      <td>0</td>\n",
       "      <td>130.0</td>\n",
       "      <td>No</td>\n",
       "      <td>5-Low</td>\n",
       "      <td>Suburban</td>\n",
       "      <td>Other</td>\n",
       "      <td>NaN</td>\n",
       "      <td>No</td>\n",
       "    </tr>\n",
       "    <tr>\n",
       "      <th>3</th>\n",
       "      <td>33.49</td>\n",
       "      <td>358.0</td>\n",
       "      <td>50.0</td>\n",
       "      <td>0.00</td>\n",
       "      <td>0.0</td>\n",
       "      <td>0.0</td>\n",
       "      <td>-16.0</td>\n",
       "      <td>0.0</td>\n",
       "      <td>1.0</td>\n",
       "      <td>4.0</td>\n",
       "      <td>...</td>\n",
       "      <td>8</td>\n",
       "      <td>No</td>\n",
       "      <td>0</td>\n",
       "      <td>150.0</td>\n",
       "      <td>No</td>\n",
       "      <td>2-High</td>\n",
       "      <td>Town</td>\n",
       "      <td>Other</td>\n",
       "      <td>Yes</td>\n",
       "      <td>No</td>\n",
       "    </tr>\n",
       "    <tr>\n",
       "      <th>4</th>\n",
       "      <td>60.94</td>\n",
       "      <td>1276.0</td>\n",
       "      <td>60.0</td>\n",
       "      <td>4.70</td>\n",
       "      <td>0.0</td>\n",
       "      <td>0.0</td>\n",
       "      <td>-188.0</td>\n",
       "      <td>0.2</td>\n",
       "      <td>5.7</td>\n",
       "      <td>19.7</td>\n",
       "      <td>...</td>\n",
       "      <td>0</td>\n",
       "      <td>No</td>\n",
       "      <td>0</td>\n",
       "      <td>30.0</td>\n",
       "      <td>No</td>\n",
       "      <td>5-Low</td>\n",
       "      <td>Other</td>\n",
       "      <td>Other</td>\n",
       "      <td>NaN</td>\n",
       "      <td>No</td>\n",
       "    </tr>\n",
       "  </tbody>\n",
       "</table>\n",
       "<p>5 rows × 57 columns</p>\n",
       "</div>"
      ],
      "text/plain": [
       "   MonthlyRevenue  MonthlyMinutes  TotalRecurringCharge  \\\n",
       "0           30.88           436.0                  30.0   \n",
       "1           44.83           172.0                  45.0   \n",
       "2           42.63           838.0                  50.0   \n",
       "3           33.49           358.0                  50.0   \n",
       "4           60.94          1276.0                  60.0   \n",
       "\n",
       "   DirectorAssistedCalls  OverageMinutes  RoamingCalls  PercChangeMinutes  \\\n",
       "0                   0.25             1.0           0.0             -112.0   \n",
       "1                   0.00             0.0           0.0              -12.0   \n",
       "2                   0.74             5.0           0.0               28.0   \n",
       "3                   0.00             0.0           0.0              -16.0   \n",
       "4                   4.70             0.0           0.0             -188.0   \n",
       "\n",
       "   PercChangeRevenues  DroppedCalls  BlockedCalls  ...  IncomeGroup  \\\n",
       "0                 0.1          11.0           0.3  ...            8   \n",
       "1               -15.5           0.3           0.3  ...            7   \n",
       "2                -2.6           4.7           6.3  ...            0   \n",
       "3                 0.0           1.0           4.0  ...            8   \n",
       "4                 0.2           5.7          19.7  ...            0   \n",
       "\n",
       "   OwnsMotorcycle  AdjustmentsToCreditRating  HandsetPrice  \\\n",
       "0              No                          0         150.0   \n",
       "1              No                          0          80.0   \n",
       "2              No                          0         130.0   \n",
       "3              No                          0         150.0   \n",
       "4              No                          0          30.0   \n",
       "\n",
       "   MadeCallToRetentionTeam  CreditRating  PrizmCode  Occupation  \\\n",
       "0                       No        2-High      Other       Other   \n",
       "1                       No        2-High   Suburban       Other   \n",
       "2                       No         5-Low   Suburban       Other   \n",
       "3                       No        2-High       Town       Other   \n",
       "4                       No         5-Low      Other       Other   \n",
       "\n",
       "   MaritalStatus  Churn  \n",
       "0            Yes    Yes  \n",
       "1             No     No  \n",
       "2            NaN     No  \n",
       "3            Yes     No  \n",
       "4            NaN     No  \n",
       "\n",
       "[5 rows x 57 columns]"
      ]
     },
     "execution_count": 4,
     "metadata": {},
     "output_type": "execute_result"
    }
   ],
   "source": [
    "dataset.head()"
   ]
  },
  {
   "cell_type": "code",
   "execution_count": 5,
   "id": "116c89fb",
   "metadata": {},
   "outputs": [
    {
     "data": {
      "text/plain": [
       "Index(['MonthlyRevenue', 'MonthlyMinutes', 'TotalRecurringCharge',\n",
       "       'DirectorAssistedCalls', 'OverageMinutes', 'RoamingCalls',\n",
       "       'PercChangeMinutes', 'PercChangeRevenues', 'DroppedCalls',\n",
       "       'BlockedCalls', 'UnsweredCalls', 'CustomerCareCalls', 'ThreewayCalls',\n",
       "       'ReceivedCalls', 'OutboundCalls', 'InboundCalls', 'PeakCallsInOut',\n",
       "       'OffPeakCallsInOut', 'DroppedBlockedCalls', 'CallForwardingCalls',\n",
       "       'CallWaitingCalls', 'MonthsInService', 'UniqueSubs', 'ActiveSubs',\n",
       "       'ServiceArea', 'Handsets', 'HandsetModels', 'CurrentEquipmentDays',\n",
       "       'AgeHH1', 'AgeHH2', 'ChildrenInHH', 'HandsetRefurbished',\n",
       "       'HandsetWebCapable', 'TruckOwner', 'RVOwner', 'Homeownership',\n",
       "       'BuysViaMailOrder', 'RespondsToMailOffers', 'OptOutMailings',\n",
       "       'NonUSTravel', 'OwnsComputer', 'HasCreditCard', 'RetentionCalls',\n",
       "       'RetentionOffersAccepted', 'NewCellphoneUser', 'NotNewCellphoneUser',\n",
       "       'ReferralsMadeBySubscriber', 'IncomeGroup', 'OwnsMotorcycle',\n",
       "       'AdjustmentsToCreditRating', 'HandsetPrice', 'MadeCallToRetentionTeam',\n",
       "       'CreditRating', 'PrizmCode', 'Occupation', 'MaritalStatus', 'Churn'],\n",
       "      dtype='object')"
      ]
     },
     "execution_count": 5,
     "metadata": {},
     "output_type": "execute_result"
    }
   ],
   "source": [
    "dataset.columns"
   ]
  },
  {
   "cell_type": "code",
   "execution_count": 6,
   "id": "7e44289b",
   "metadata": {},
   "outputs": [
    {
     "data": {
      "text/plain": [
       "(6380, 57)"
      ]
     },
     "execution_count": 6,
     "metadata": {},
     "output_type": "execute_result"
    }
   ],
   "source": [
    "dataset.shape"
   ]
  },
  {
   "cell_type": "code",
   "execution_count": 7,
   "id": "d47565ba",
   "metadata": {},
   "outputs": [
    {
     "data": {
      "text/plain": [
       "MonthlyRevenue               float64\n",
       "MonthlyMinutes               float64\n",
       "TotalRecurringCharge         float64\n",
       "DirectorAssistedCalls        float64\n",
       "OverageMinutes               float64\n",
       "RoamingCalls                 float64\n",
       "PercChangeMinutes            float64\n",
       "PercChangeRevenues           float64\n",
       "DroppedCalls                 float64\n",
       "BlockedCalls                 float64\n",
       "UnsweredCalls                float64\n",
       "CustomerCareCalls            float64\n",
       "ThreewayCalls                float64\n",
       "ReceivedCalls                float64\n",
       "OutboundCalls                float64\n",
       "InboundCalls                 float64\n",
       "PeakCallsInOut               float64\n",
       "OffPeakCallsInOut            float64\n",
       "DroppedBlockedCalls          float64\n",
       "CallForwardingCalls          float64\n",
       "CallWaitingCalls             float64\n",
       "MonthsInService                int64\n",
       "UniqueSubs                     int64\n",
       "ActiveSubs                     int64\n",
       "ServiceArea                   object\n",
       "Handsets                       int64\n",
       "HandsetModels                  int64\n",
       "CurrentEquipmentDays           int64\n",
       "AgeHH1                       float64\n",
       "AgeHH2                       float64\n",
       "ChildrenInHH                  object\n",
       "HandsetRefurbished            object\n",
       "HandsetWebCapable             object\n",
       "TruckOwner                    object\n",
       "RVOwner                       object\n",
       "Homeownership                 object\n",
       "BuysViaMailOrder              object\n",
       "RespondsToMailOffers          object\n",
       "OptOutMailings                object\n",
       "NonUSTravel                   object\n",
       "OwnsComputer                  object\n",
       "HasCreditCard                 object\n",
       "RetentionCalls                 int64\n",
       "RetentionOffersAccepted        int64\n",
       "NewCellphoneUser              object\n",
       "NotNewCellphoneUser           object\n",
       "ReferralsMadeBySubscriber      int64\n",
       "IncomeGroup                    int64\n",
       "OwnsMotorcycle                object\n",
       "AdjustmentsToCreditRating      int64\n",
       "HandsetPrice                 float64\n",
       "MadeCallToRetentionTeam       object\n",
       "CreditRating                  object\n",
       "PrizmCode                     object\n",
       "Occupation                    object\n",
       "MaritalStatus                 object\n",
       "Churn                         object\n",
       "dtype: object"
      ]
     },
     "execution_count": 7,
     "metadata": {},
     "output_type": "execute_result"
    }
   ],
   "source": [
    "dataset.dtypes"
   ]
  },
  {
   "cell_type": "code",
   "execution_count": 8,
   "id": "7f6b6147",
   "metadata": {
    "scrolled": true
   },
   "outputs": [
    {
     "data": {
      "text/plain": [
       "{int64: ['MonthsInService', 'UniqueSubs', 'ActiveSubs', 'Handsets', 'HandsetModels', 'CurrentEquipmentDays', 'RetentionCalls', 'RetentionOffersAccepted', 'ReferralsMadeBySubscriber', 'IncomeGroup', 'AdjustmentsToCreditRating'], float64: ['MonthlyRevenue', 'MonthlyMinutes', 'TotalRecurringCharge', 'DirectorAssistedCalls', 'OverageMinutes', 'RoamingCalls', 'PercChangeMinutes', 'PercChangeRevenues', 'DroppedCalls', 'BlockedCalls', 'UnsweredCalls', 'CustomerCareCalls', 'ThreewayCalls', 'ReceivedCalls', 'OutboundCalls', 'InboundCalls', 'PeakCallsInOut', 'OffPeakCallsInOut', 'DroppedBlockedCalls', 'CallForwardingCalls', 'CallWaitingCalls', 'AgeHH1', 'AgeHH2', 'HandsetPrice'], object: ['ServiceArea', 'ChildrenInHH', 'HandsetRefurbished', 'HandsetWebCapable', 'TruckOwner', 'RVOwner', 'Homeownership', 'BuysViaMailOrder', 'RespondsToMailOffers', 'OptOutMailings', 'NonUSTravel', 'OwnsComputer', 'HasCreditCard', 'NewCellphoneUser', 'NotNewCellphoneUser', 'OwnsMotorcycle', 'MadeCallToRetentionTeam', 'CreditRating', 'PrizmCode', 'Occupation', 'MaritalStatus', 'Churn']}"
      ]
     },
     "execution_count": 8,
     "metadata": {},
     "output_type": "execute_result"
    }
   ],
   "source": [
    "dataset.columns.to_series().groupby(dataset.dtypes).groups"
   ]
  },
  {
   "cell_type": "markdown",
   "id": "cab16be7",
   "metadata": {},
   "source": [
    "### Looking for Null Values"
   ]
  },
  {
   "cell_type": "code",
   "execution_count": 9,
   "id": "ab76e4ec",
   "metadata": {},
   "outputs": [
    {
     "name": "stdout",
     "output_type": "stream",
     "text": [
      "<class 'pandas.core.frame.DataFrame'>\n",
      "RangeIndex: 6380 entries, 0 to 6379\n",
      "Data columns (total 57 columns):\n",
      " #   Column                     Non-Null Count  Dtype  \n",
      "---  ------                     --------------  -----  \n",
      " 0   MonthlyRevenue             6359 non-null   float64\n",
      " 1   MonthlyMinutes             6359 non-null   float64\n",
      " 2   TotalRecurringCharge       6359 non-null   float64\n",
      " 3   DirectorAssistedCalls      6359 non-null   float64\n",
      " 4   OverageMinutes             6359 non-null   float64\n",
      " 5   RoamingCalls               6359 non-null   float64\n",
      " 6   PercChangeMinutes          6338 non-null   float64\n",
      " 7   PercChangeRevenues         6338 non-null   float64\n",
      " 8   DroppedCalls               6380 non-null   float64\n",
      " 9   BlockedCalls               6380 non-null   float64\n",
      " 10  UnsweredCalls              6380 non-null   float64\n",
      " 11  CustomerCareCalls          6380 non-null   float64\n",
      " 12  ThreewayCalls              6380 non-null   float64\n",
      " 13  ReceivedCalls              6380 non-null   float64\n",
      " 14  OutboundCalls              6380 non-null   float64\n",
      " 15  InboundCalls               6380 non-null   float64\n",
      " 16  PeakCallsInOut             6380 non-null   float64\n",
      " 17  OffPeakCallsInOut          6380 non-null   float64\n",
      " 18  DroppedBlockedCalls        6380 non-null   float64\n",
      " 19  CallForwardingCalls        6380 non-null   float64\n",
      " 20  CallWaitingCalls           6380 non-null   float64\n",
      " 21  MonthsInService            6380 non-null   int64  \n",
      " 22  UniqueSubs                 6380 non-null   int64  \n",
      " 23  ActiveSubs                 6380 non-null   int64  \n",
      " 24  ServiceArea                6377 non-null   object \n",
      " 25  Handsets                   6380 non-null   int64  \n",
      " 26  HandsetModels              6380 non-null   int64  \n",
      " 27  CurrentEquipmentDays       6380 non-null   int64  \n",
      " 28  AgeHH1                     6270 non-null   float64\n",
      " 29  AgeHH2                     6270 non-null   float64\n",
      " 30  ChildrenInHH               6380 non-null   object \n",
      " 31  HandsetRefurbished         6380 non-null   object \n",
      " 32  HandsetWebCapable          6380 non-null   object \n",
      " 33  TruckOwner                 6380 non-null   object \n",
      " 34  RVOwner                    6380 non-null   object \n",
      " 35  Homeownership              4259 non-null   object \n",
      " 36  BuysViaMailOrder           6380 non-null   object \n",
      " 37  RespondsToMailOffers       6380 non-null   object \n",
      " 38  OptOutMailings             6380 non-null   object \n",
      " 39  NonUSTravel                6380 non-null   object \n",
      " 40  OwnsComputer               6380 non-null   object \n",
      " 41  HasCreditCard              6380 non-null   object \n",
      " 42  RetentionCalls             6380 non-null   int64  \n",
      " 43  RetentionOffersAccepted    6380 non-null   int64  \n",
      " 44  NewCellphoneUser           6380 non-null   object \n",
      " 45  NotNewCellphoneUser        6380 non-null   object \n",
      " 46  ReferralsMadeBySubscriber  6380 non-null   int64  \n",
      " 47  IncomeGroup                6380 non-null   int64  \n",
      " 48  OwnsMotorcycle             6380 non-null   object \n",
      " 49  AdjustmentsToCreditRating  6380 non-null   int64  \n",
      " 50  HandsetPrice               2781 non-null   float64\n",
      " 51  MadeCallToRetentionTeam    6380 non-null   object \n",
      " 52  CreditRating               6380 non-null   object \n",
      " 53  PrizmCode                  6380 non-null   object \n",
      " 54  Occupation                 6380 non-null   object \n",
      " 55  MaritalStatus              3943 non-null   object \n",
      " 56  Churn                      6380 non-null   object \n",
      "dtypes: float64(24), int64(11), object(22)\n",
      "memory usage: 2.8+ MB\n"
     ]
    }
   ],
   "source": [
    "# Prints information about the DataFrame\n",
    "dataset.info()"
   ]
  },
  {
   "cell_type": "code",
   "execution_count": 10,
   "id": "ee1db26a",
   "metadata": {
    "scrolled": true
   },
   "outputs": [
    {
     "data": {
      "text/plain": [
       "MonthlyRevenue                True\n",
       "MonthlyMinutes                True\n",
       "TotalRecurringCharge          True\n",
       "DirectorAssistedCalls         True\n",
       "OverageMinutes                True\n",
       "RoamingCalls                  True\n",
       "PercChangeMinutes             True\n",
       "PercChangeRevenues            True\n",
       "DroppedCalls                 False\n",
       "BlockedCalls                 False\n",
       "UnsweredCalls                False\n",
       "CustomerCareCalls            False\n",
       "ThreewayCalls                False\n",
       "ReceivedCalls                False\n",
       "OutboundCalls                False\n",
       "InboundCalls                 False\n",
       "PeakCallsInOut               False\n",
       "OffPeakCallsInOut            False\n",
       "DroppedBlockedCalls          False\n",
       "CallForwardingCalls          False\n",
       "CallWaitingCalls             False\n",
       "MonthsInService              False\n",
       "UniqueSubs                   False\n",
       "ActiveSubs                   False\n",
       "ServiceArea                   True\n",
       "Handsets                     False\n",
       "HandsetModels                False\n",
       "CurrentEquipmentDays         False\n",
       "AgeHH1                        True\n",
       "AgeHH2                        True\n",
       "ChildrenInHH                 False\n",
       "HandsetRefurbished           False\n",
       "HandsetWebCapable            False\n",
       "TruckOwner                   False\n",
       "RVOwner                      False\n",
       "Homeownership                 True\n",
       "BuysViaMailOrder             False\n",
       "RespondsToMailOffers         False\n",
       "OptOutMailings               False\n",
       "NonUSTravel                  False\n",
       "OwnsComputer                 False\n",
       "HasCreditCard                False\n",
       "RetentionCalls               False\n",
       "RetentionOffersAccepted      False\n",
       "NewCellphoneUser             False\n",
       "NotNewCellphoneUser          False\n",
       "ReferralsMadeBySubscriber    False\n",
       "IncomeGroup                  False\n",
       "OwnsMotorcycle               False\n",
       "AdjustmentsToCreditRating    False\n",
       "HandsetPrice                  True\n",
       "MadeCallToRetentionTeam      False\n",
       "CreditRating                 False\n",
       "PrizmCode                    False\n",
       "Occupation                   False\n",
       "MaritalStatus                 True\n",
       "Churn                        False\n",
       "dtype: bool"
      ]
     },
     "execution_count": 10,
     "metadata": {},
     "output_type": "execute_result"
    }
   ],
   "source": [
    "# Yes, there are null values in the columns marked as True below\n",
    "dataset.isna().any()"
   ]
  },
  {
   "cell_type": "code",
   "execution_count": 11,
   "id": "b793d8d9",
   "metadata": {
    "scrolled": false
   },
   "outputs": [
    {
     "data": {
      "text/plain": [
       "MonthlyRevenue                 21\n",
       "MonthlyMinutes                 21\n",
       "TotalRecurringCharge           21\n",
       "DirectorAssistedCalls          21\n",
       "OverageMinutes                 21\n",
       "RoamingCalls                   21\n",
       "PercChangeMinutes              42\n",
       "PercChangeRevenues             42\n",
       "DroppedCalls                    0\n",
       "BlockedCalls                    0\n",
       "UnsweredCalls                   0\n",
       "CustomerCareCalls               0\n",
       "ThreewayCalls                   0\n",
       "ReceivedCalls                   0\n",
       "OutboundCalls                   0\n",
       "InboundCalls                    0\n",
       "PeakCallsInOut                  0\n",
       "OffPeakCallsInOut               0\n",
       "DroppedBlockedCalls             0\n",
       "CallForwardingCalls             0\n",
       "CallWaitingCalls                0\n",
       "MonthsInService                 0\n",
       "UniqueSubs                      0\n",
       "ActiveSubs                      0\n",
       "ServiceArea                     3\n",
       "Handsets                        0\n",
       "HandsetModels                   0\n",
       "CurrentEquipmentDays            0\n",
       "AgeHH1                        110\n",
       "AgeHH2                        110\n",
       "ChildrenInHH                    0\n",
       "HandsetRefurbished              0\n",
       "HandsetWebCapable               0\n",
       "TruckOwner                      0\n",
       "RVOwner                         0\n",
       "Homeownership                2121\n",
       "BuysViaMailOrder                0\n",
       "RespondsToMailOffers            0\n",
       "OptOutMailings                  0\n",
       "NonUSTravel                     0\n",
       "OwnsComputer                    0\n",
       "HasCreditCard                   0\n",
       "RetentionCalls                  0\n",
       "RetentionOffersAccepted         0\n",
       "NewCellphoneUser                0\n",
       "NotNewCellphoneUser             0\n",
       "ReferralsMadeBySubscriber       0\n",
       "IncomeGroup                     0\n",
       "OwnsMotorcycle                  0\n",
       "AdjustmentsToCreditRating       0\n",
       "HandsetPrice                 3599\n",
       "MadeCallToRetentionTeam         0\n",
       "CreditRating                    0\n",
       "PrizmCode                       0\n",
       "Occupation                      0\n",
       "MaritalStatus                2437\n",
       "Churn                           0\n",
       "dtype: int64"
      ]
     },
     "execution_count": 11,
     "metadata": {},
     "output_type": "execute_result"
    }
   ],
   "source": [
    "# How many Null values are there in each column?\n",
    "dataset.isna().sum()"
   ]
  },
  {
   "cell_type": "code",
   "execution_count": 12,
   "id": "25a1dcb2",
   "metadata": {},
   "outputs": [
    {
     "name": "stdout",
     "output_type": "stream",
     "text": [
      "Unique MonthlyRevenue's count: 4065\n",
      "[ 30.88  44.83  42.63 ...  12.29  99.61 103.63]\n",
      "\n",
      "Unique MonthlyMinutes's count: 1618\n",
      "[ 436.  172.  838. ... 2183. 2821. 1071.]\n",
      "\n",
      "Unique TotalRecurringCharge's count: 152\n",
      "[ 30.  45.  50.  60.  55.  22.  40.  10.  32.  38.  44. 102.  70.  20.\n",
      "  54.  72.  57.  42.  46.  82.  25.   0.  95.  68.  15.  17.  83.  59.\n",
      "  93.  52.  36.  90.  86.  58.  34.  29.  75.  63.  67. 120. 135.   2.\n",
      "  28.  74.  35.  80.  85.  21.  56. 142. 150.  77.  61. 111.  76.  nan\n",
      "  92.  43.  48.  66. 140.  16.  49.  96. 108. 110. 112.  37. 118.  53.\n",
      "  89.   6.  78.  47.  12.  19.  81.  41.  71.  39.   5. 100.  65.  51.\n",
      "  13. 105.  88.  23. 121.   8.  33. 115.  79.  98.   7.  64.  14. 126.\n",
      " 160.  84. 101.  27.  69. 400.  91.  31.  -6.  62.  24. 149.  18.  99.\n",
      " 175. 145. 144.  73.  26. 274.   9. 213. 161. 125.   3. 104. 138.  87.\n",
      " 186.  11. 107. 130. 180.  97.  94. 137. 210. 132. 202.  -2. 195. 170.\n",
      " 119. 147. 312. 136.   1. 139. 122. 134. 153. 117. 103. 116. 151.]\n",
      "\n",
      "Unique DirectorAssistedCalls's count: 85\n",
      "[  0.25   0.     0.74   4.7    2.72   0.99   1.24   2.48   1.98   0.5\n",
      "   5.94   7.67   1.73   6.19   1.49   3.22   2.23   9.4    3.46   2.97\n",
      "   8.17   5.2    5.69   6.68  27.72   4.46   8.66   4.21   6.93   5.45\n",
      "   6.43   3.71   7.42  10.64  11.63    nan  45.05  15.35  11.14  17.08\n",
      "  13.53   0.33   8.91   4.95   3.96  12.38   9.65   7.18   9.9   15.84\n",
      "  18.07   9.16  11.38  12.62   0.66   8.41  10.89  19.55  44.3    7.92\n",
      "  16.58  14.11  13.37  16.34   8.58  14.36  18.56   6.27 159.39  14.85\n",
      "   9.57  55.19  15.1   11.88  10.39  12.13  13.86  13.61  30.44  62.12\n",
      "  10.15   3.3   32.17   2.64   1.65  20.3 ]\n",
      "\n",
      "Unique OverageMinutes's count: 376\n",
      "[1.000e+00 0.000e+00 5.000e+00 1.200e+01 7.300e+01 2.800e+01 7.000e+00\n",
      " 1.540e+02 3.600e+01 1.380e+02 2.400e+01 2.000e+00 6.000e+00 9.000e+00\n",
      " 8.500e+01 4.100e+01 1.370e+02 1.600e+01 1.900e+02 2.500e+02 1.840e+02\n",
      " 7.400e+01 1.360e+02 1.100e+01 6.500e+01 1.140e+02 2.100e+01 2.280e+02\n",
      " 8.000e+00 5.100e+01 2.540e+02 4.000e+00 9.600e+01 2.140e+02 1.700e+02\n",
      " 2.860e+02 3.000e+00 2.600e+02 5.430e+02 9.100e+01 8.700e+01 4.800e+01\n",
      " 4.400e+01 1.900e+01 8.600e+01 2.160e+02 1.490e+02 7.200e+01 8.300e+01\n",
      " 7.800e+01 4.000e+01 2.270e+02 2.000e+01 8.400e+01 5.600e+01 3.700e+01\n",
      " 9.120e+02 1.130e+02 9.200e+01 1.060e+02 6.100e+01 1.430e+02 1.920e+02\n",
      " 2.500e+01 5.800e+02 1.800e+01 1.280e+02 7.000e+01 3.060e+02 4.030e+02\n",
      " 1.000e+01 6.400e+01 4.300e+01 2.700e+01 4.200e+01 1.300e+01 1.660e+02\n",
      " 3.040e+02 8.800e+01 3.900e+01 1.400e+01 5.000e+01 9.400e+01 2.290e+02\n",
      " 3.800e+01 1.500e+01 5.200e+01 2.100e+02 2.360e+02 6.300e+01 2.300e+01\n",
      " 4.420e+02 1.070e+02 1.080e+02 4.700e+01 1.240e+02 1.560e+02 1.970e+02\n",
      " 1.300e+02 1.760e+02 9.000e+01 2.000e+02 2.420e+02 2.090e+02 6.900e+01\n",
      " 2.340e+02 3.200e+01 1.570e+02 1.440e+02 5.800e+01       nan 2.900e+01\n",
      " 5.500e+01 9.500e+01 5.700e+01 6.000e+01 1.390e+02 4.600e+01 7.700e+01\n",
      " 2.200e+01 8.000e+01 3.000e+01 3.100e+01 2.180e+02 3.500e+01 1.670e+02\n",
      " 2.790e+02 4.900e+01 1.770e+02 3.400e+01 2.080e+02 1.270e+02 8.060e+02\n",
      " 6.070e+02 2.940e+02 7.500e+01 2.600e+01 1.740e+02 8.100e+01 1.860e+02\n",
      " 1.530e+02 2.450e+02 2.170e+02 1.790e+02 1.990e+02 1.120e+02 7.900e+01\n",
      " 2.210e+02 5.900e+01 6.200e+01 2.770e+02 7.600e+01 1.710e+02 9.400e+02\n",
      " 6.700e+01 9.300e+01 7.100e+01 2.150e+02 1.050e+02 3.480e+02 1.100e+02\n",
      " 1.110e+02 4.500e+01 4.000e+02 4.750e+02 1.180e+02 1.700e+01 3.300e+01\n",
      " 1.850e+02 1.030e+02 7.190e+02 1.980e+02 1.400e+02 5.700e+02 2.230e+02\n",
      " 2.550e+02 2.070e+02 1.290e+02 1.940e+02 6.600e+01 5.560e+02 2.880e+02\n",
      " 1.720e+02 2.190e+02 1.340e+02 1.800e+02 3.820e+02 2.580e+02 1.170e+02\n",
      " 3.160e+02 1.950e+02 1.150e+02 9.800e+01 5.300e+01 2.440e+02 1.230e+02\n",
      " 1.640e+02 3.870e+02 2.250e+02 8.900e+01 9.700e+01 1.610e+02 6.800e+01\n",
      " 1.000e+02 5.400e+01 1.680e+02 3.180e+02 1.040e+02 3.070e+02 3.450e+02\n",
      " 1.350e+02 2.278e+03 3.570e+02 2.220e+02 7.160e+02 1.500e+02 1.600e+02\n",
      " 3.640e+02 3.520e+02 1.010e+02 1.090e+02 1.200e+02 1.460e+02 1.420e+02\n",
      " 1.890e+02 1.260e+02 4.260e+02 4.450e+02 2.320e+02 4.190e+02 2.040e+02\n",
      " 6.940e+02 5.200e+02 2.520e+02 1.930e+02 1.580e+02 4.140e+02 1.220e+02\n",
      " 2.300e+02 3.250e+02 1.480e+02 3.310e+02 2.460e+02 2.980e+02 4.490e+02\n",
      " 2.740e+02 1.250e+02 1.630e+02 1.020e+02 7.560e+02 7.120e+02 3.740e+02\n",
      " 1.750e+02 8.200e+01 3.130e+02 3.400e+02 1.160e+02 6.260e+02 1.450e+02\n",
      " 1.650e+02 4.310e+02 1.520e+02 4.380e+02 1.870e+02 6.680e+02 1.320e+02\n",
      " 1.023e+03 5.820e+02 3.220e+02 3.010e+02 1.190e+02 2.680e+02 2.720e+02\n",
      " 2.390e+02 4.110e+02 2.830e+02 4.070e+02 4.650e+02 1.330e+02 2.590e+02\n",
      " 1.550e+02 1.510e+02 2.240e+02 1.880e+02 3.630e+02 3.290e+02 2.610e+02\n",
      " 6.460e+02 3.560e+02 1.470e+02 2.660e+02 3.540e+02 4.100e+02 2.820e+02\n",
      " 4.540e+02 4.810e+02 3.720e+02 2.900e+02 3.030e+02 3.330e+02 2.030e+02\n",
      " 5.940e+02 5.370e+02 4.340e+02 4.560e+02 2.920e+02 1.040e+03 1.410e+02\n",
      " 3.880e+02 1.780e+02 8.630e+02 4.800e+02 1.620e+02 1.565e+03 2.620e+02\n",
      " 2.730e+02 2.310e+02 2.670e+02 4.980e+02 2.020e+02 4.040e+02 2.400e+02\n",
      " 4.530e+02 2.960e+02 2.060e+02 1.820e+02 5.300e+02 1.830e+02 7.040e+02\n",
      " 2.410e+02 1.690e+02 2.930e+02 4.670e+02 4.920e+02 1.910e+02 4.210e+02\n",
      " 2.490e+02 3.810e+02 2.260e+02 6.640e+02 3.120e+02 1.750e+03 3.920e+02\n",
      " 1.730e+02 6.500e+02 3.000e+02 2.010e+02 2.640e+02 9.310e+02 3.430e+02\n",
      " 2.200e+02 4.050e+02 2.370e+02 5.180e+02 3.260e+02 9.900e+01 4.270e+02\n",
      " 6.660e+02 2.350e+02 5.160e+02 2.850e+02 4.230e+02 2.130e+02 3.140e+02\n",
      " 4.360e+02 4.480e+02 2.570e+02 2.560e+02 3.380e+02 3.150e+02 1.810e+02\n",
      " 6.890e+02 2.800e+02 2.510e+02 2.430e+02 3.440e+02 4.780e+02]\n",
      "\n",
      "Unique RoamingCalls's count: 229\n",
      "[0.000e+00 5.000e-01 1.100e+00 1.000e-01 2.100e+00 1.800e+00 4.100e+00\n",
      " 4.800e+00 2.000e-01 9.000e-01 4.000e-01 3.600e+00 1.600e+00 2.300e+00\n",
      " 4.300e+00 5.000e+00 3.400e+00 2.400e+00 2.500e+00 4.400e+00 1.700e+00\n",
      " 7.700e+00 3.700e+00 6.000e-01 3.000e-01 7.500e+00 1.200e+00 5.600e+00\n",
      " 1.030e+01 8.000e-01 1.000e+00 1.290e+01 8.200e+00 2.190e+01 2.210e+01\n",
      " 1.300e+00 9.600e+00 4.000e+00 7.000e-01 1.500e+00 2.370e+01 2.000e+00\n",
      " 3.530e+01 1.400e+00 4.200e+00 1.570e+01       nan 6.300e+00 1.429e+02\n",
      " 1.180e+01 2.710e+01 8.600e+00 5.100e+00 3.900e+00 1.900e+00 5.400e+00\n",
      " 1.368e+02 6.500e+00 6.900e+00 3.000e+00 8.300e+00 2.900e+00 4.170e+01\n",
      " 2.790e+01 1.140e+01 2.630e+01 7.200e+00 4.700e+00 3.800e+00 2.800e+00\n",
      " 1.590e+01 9.210e+01 1.660e+01 3.830e+01 1.470e+01 9.400e+00 1.490e+01\n",
      " 2.510e+01 5.800e+00 1.930e+01 8.000e+00 6.700e+00 3.100e+00 2.920e+01\n",
      " 2.200e+00 7.400e+00 9.500e+00 2.700e+00 3.300e+00 2.060e+01 5.900e+00\n",
      " 8.700e+00 1.780e+01 2.220e+01 1.880e+01 5.200e+00 2.290e+01 5.300e+00\n",
      " 7.000e+00 1.710e+01 1.870e+01 9.300e+00 7.600e+00 8.500e+00 6.100e+00\n",
      " 8.290e+01 2.600e+00 3.880e+01 3.500e+00 4.120e+01 7.900e+00 1.310e+01\n",
      " 3.200e+00 2.360e+01 1.080e+01 1.400e+01 5.580e+01 1.380e+01 2.090e+01\n",
      " 3.480e+01 4.900e+00 4.600e+00 1.110e+01 9.000e+00 7.800e+00 3.360e+01\n",
      " 1.560e+01 6.200e+00 3.910e+01 5.700e+00 6.000e+00 6.400e+00 7.100e+00\n",
      " 4.490e+01 1.070e+01 2.300e+01 3.640e+01 2.050e+01 1.980e+01 2.120e+01\n",
      " 1.790e+01 1.430e+01 5.500e+00 2.860e+01 2.320e+01 8.900e+00 3.380e+01\n",
      " 1.320e+01 2.980e+01 1.690e+01 1.720e+01 1.230e+01 3.000e+01 1.000e+01\n",
      " 8.800e+00 8.130e+01 6.800e+00 4.430e+01 1.220e+01 2.450e+01 9.900e+00\n",
      " 6.600e+00 1.820e+01 1.060e+01 1.460e+01 4.390e+01 2.260e+01 1.130e+01\n",
      " 8.100e+00 2.340e+01 9.800e+00 3.010e+01 1.240e+01 7.300e+00 2.180e+01\n",
      " 7.400e+01 2.380e+01 9.100e+00 2.410e+01 1.210e+01 1.350e+01 4.500e+00\n",
      " 1.050e+01 1.170e+01 1.550e+01 1.150e+01 1.800e+01 4.640e+01 3.190e+01\n",
      " 8.400e+00 1.840e+01 2.750e+01 2.160e+01 2.350e+01 2.170e+01 1.950e+01\n",
      " 9.700e+00 1.010e+01 2.600e+01 7.860e+01 3.750e+01 1.520e+01 3.290e+01\n",
      " 1.360e+01 1.160e+01 2.110e+01 2.620e+01 1.760e+01 1.480e+01 1.410e+01\n",
      " 1.390e+01 5.320e+01 2.020e+01 1.120e+01 3.620e+01 3.060e+01 2.430e+01\n",
      " 1.300e+01 1.960e+01 5.100e+01 1.630e+01 1.420e+01 4.130e+01 2.950e+01\n",
      " 1.446e+02 4.460e+01 3.310e+01 1.600e+01 4.310e+01 4.040e+01]\n",
      "\n",
      "Unique PercChangeMinutes's count: 1159\n",
      "[-112.  -12.   28. ...  388. -640. -414.]\n",
      "\n",
      "Unique PercChangeRevenues's count: 1328\n",
      "[  0.1 -15.5  -2.6 ...  28.7  59.3  75.7]\n",
      "\n",
      "Unique DroppedCalls's count: 182\n",
      "[ 11.    0.3   4.7   1.    5.7   2.3   5.    7.    3.7  12.    6.7   2.\n",
      "   4.3   8.7   0.    0.7   9.3   3.3   1.7  18.3  33.7  16.   10.    2.7\n",
      "  18.   10.7   1.3  33.    6.   14.7  19.7   9.   16.7  23.3  15.3  29.\n",
      "  20.   13.7   3.    8.    6.3  22.   12.7   8.3  11.3  20.3  33.3  13.3\n",
      "   5.3  30.3   4.   27.7  31.3  12.3  23.    7.7  31.   14.3  24.3  10.3\n",
      "  21.7  31.7  39.3  26.3  37.    7.3  20.7  21.3  14.   11.7  36.   15.7\n",
      "  17.    9.7  56.3  27.   53.3  26.   15.   34.   19.   41.7  17.3  17.7\n",
      "  21.   19.3  58.   47.7  32.   13.   37.3  22.7  22.3  50.   36.3  58.7\n",
      "  49.7  26.7  18.7  48.3  25.7  32.7  30.7  28.7  42.3  38.   34.3  80.3\n",
      "  30.   24.7  40.3  29.7  57.3  27.3  49.   41.3  35.   50.3  63.   28.3\n",
      "  52.   16.3  81.3  23.7  66.3  32.3  35.3  39.7  28.   45.7  56.   61.\n",
      "  56.7  46.7  24.   59.   46.   60.3  65.7  35.7  38.3  40.7  44.7  55.\n",
      " 111.   71.   61.7  51.7 117.3  43.   55.7 119.7  29.3  67.7  41.   59.3\n",
      "  53.7  53.   25.3  59.7  45.   78.7  42.7  25.   42.   38.7  48.   57.7\n",
      "  43.7 166.3  34.7  39.   82.   62.   45.3  54.   51.3  44.   37.7  76.\n",
      "  44.3  89. ]\n",
      "\n",
      "Unique BlockedCalls's count: 179\n",
      "[  0.3   6.3   4.   19.7   2.3   0.    4.3   1.    2.    1.7   8.   11.7\n",
      "  39.7   3.7   1.3   5.7   4.7   8.7   6.    3.3   0.7   9.   16.   41.7\n",
      "  17.3  21.7  15.   18.7  82.7   2.7   3.   23.7   7.7  11.  104.3  77.\n",
      "  12.7  12.3  15.7  10.3  22.    9.3  10.   16.3  13.3  45.3   5.   18.\n",
      " 113.7  16.7  59.7   6.7  26.7   5.3  17.   17.7  83.   15.3  11.3  21.3\n",
      "  20.3   7.   29.   30.3  10.7   8.3  87.3  52.7  12.   33.3   7.3   9.7\n",
      "  97.7  38.   13.   14.   25.   14.3  14.7  21.   52.   46.3  22.7  24.7\n",
      "  19.3 144.7  24.3  27.   20.7  19.   36.3  24.   13.7  49.3  18.3  43.3\n",
      "  79.7  46.7 119.   32.7  76.   26.3  54.3  31.7  30.   23.   44.3  34.3\n",
      "  56.7  42.   57.   38.3  29.7  35.3  23.3  41.   52.3  53.7  64.  101.\n",
      "  28.   28.7  27.7  33.7 116.3  22.3  62.7  66.7  20.   44.   55.   57.7\n",
      "  48.   44.7  40.7  30.7  26.   94.3  35.  141.7 120.   34.7  31.3  29.3\n",
      "  92.7  25.7  32.3 124.   27.3  41.3  36.7 135.   49.   40.3  67.  100.3\n",
      "  50.3  43.7  37.3  84.7  70.3  32.   28.3 106.   61.   66.   31.   55.7\n",
      "  53.   37.   68.3  38.7 132.3  61.7  69.3 134.7  39.   67.3  47. ]\n",
      "\n",
      "Unique UnsweredCalls's count: 509\n",
      "[2.000e+01 3.700e+00 6.200e+01 1.000e+01 4.970e+01 8.000e+00 5.300e+00\n",
      " 4.300e+00 3.970e+01 9.300e+00 1.157e+02 2.870e+01 1.070e+01 7.700e+00\n",
      " 7.000e-01 1.127e+02 0.000e+00 1.130e+01 1.930e+01 3.370e+01 3.270e+01\n",
      " 2.200e+01 1.870e+01 2.530e+01 1.700e+00 8.130e+01 9.830e+01 4.700e+00\n",
      " 1.370e+01 4.700e+01 1.400e+01 9.000e+00 2.330e+01 5.330e+01 1.770e+01\n",
      " 8.700e+00 1.047e+02 5.700e+00 5.100e+01 6.300e+00 1.970e+01 2.470e+01\n",
      " 1.820e+02 1.900e+01 3.430e+01 5.030e+01 5.070e+01 7.000e+00 7.130e+01\n",
      " 1.500e+01 6.700e+00 3.000e+01 1.170e+01 1.310e+02 1.153e+02 3.070e+01\n",
      " 1.730e+01 6.800e+01 8.470e+01 4.000e+00 2.600e+01 1.300e+00 2.130e+01\n",
      " 3.000e-01 3.230e+01 5.000e+00 2.000e+00 3.870e+01 8.300e+00 6.830e+01\n",
      " 6.230e+01 3.730e+01 7.170e+01 2.370e+01 1.600e+01 1.700e+01 6.000e+00\n",
      " 3.670e+01 2.670e+01 1.200e+01 1.270e+01 2.300e+00 4.630e+01 5.000e+01\n",
      " 3.700e+01 7.300e+00 1.123e+02 9.000e+01 2.430e+01 8.500e+01 1.353e+02\n",
      " 1.300e+01 5.670e+01 4.470e+01 4.730e+01 8.070e+01 2.730e+01 4.130e+01\n",
      " 4.000e+01 1.367e+02 1.830e+01 2.770e+01 3.530e+01 5.130e+01 1.100e+01\n",
      " 2.930e+01 1.470e+01 2.400e+01 1.000e+00 7.930e+01 2.300e+01 1.003e+02\n",
      " 5.200e+01 3.200e+01 1.463e+02 1.283e+02 4.870e+01 4.300e+01 5.700e+01\n",
      " 2.970e+01 1.670e+01 1.373e+02 1.697e+02 1.230e+01 1.447e+02 3.900e+01\n",
      " 1.800e+01 9.770e+01 9.530e+01 2.570e+01 3.600e+01 5.500e+01 5.730e+01\n",
      " 3.130e+01 4.570e+01 5.370e+01 7.370e+01 5.430e+01 2.700e+01 4.770e+01\n",
      " 1.017e+02 1.077e+02 3.030e+01 1.393e+02 7.570e+01 7.330e+01 3.300e+00\n",
      " 7.300e+01 1.570e+01 3.000e+00 6.700e+01 5.770e+01 1.630e+01 2.230e+01\n",
      " 3.930e+01 4.270e+01 1.267e+02 3.470e+01 2.270e+01 3.043e+02 4.830e+01\n",
      " 2.800e+01 6.930e+01 1.530e+01 3.100e+01 9.700e+00 5.170e+01 8.330e+01\n",
      " 3.500e+01 1.330e+01 2.700e+00 1.160e+02 3.630e+01 3.800e+01 5.630e+01\n",
      " 4.200e+01 9.070e+01 4.100e+01 4.230e+01 5.870e+01 4.430e+01 2.373e+02\n",
      " 1.240e+02 5.300e+01 2.230e+02 5.600e+01 4.600e+01 1.110e+02 1.207e+02\n",
      " 6.370e+01 9.130e+01 9.870e+01 5.900e+01 4.530e+01 8.000e+01 2.170e+01\n",
      " 8.270e+01 9.730e+01 1.120e+02 5.230e+01 6.100e+01 1.360e+02 9.700e+01\n",
      " 1.093e+02 8.730e+01 1.090e+02 1.263e+02 1.227e+02 2.500e+01 1.203e+02\n",
      " 4.030e+01 3.330e+01 2.100e+01 1.060e+02 5.570e+01 1.407e+02 1.030e+01\n",
      " 7.800e+01 4.170e+01 3.737e+02 1.133e+02 2.030e+01 7.770e+01 2.630e+01\n",
      " 8.430e+01 5.530e+01 6.170e+01 4.330e+01 5.270e+01 3.570e+01 1.773e+02\n",
      " 5.400e+01 2.070e+01 3.057e+02 6.000e+01 8.370e+01 1.040e+02 1.147e+02\n",
      " 5.930e+01 1.073e+02 6.470e+01 7.600e+01 1.307e+02 4.070e+01 5.970e+01\n",
      " 2.900e+01 1.993e+02 2.893e+02 7.830e+01 4.400e+01 1.043e+02 7.030e+01\n",
      " 8.570e+01 6.900e+01 5.470e+01 1.453e+02 7.430e+01 9.500e+01 8.100e+01\n",
      " 1.537e+02 6.500e+01 7.270e+01 3.300e+01 8.630e+01 4.500e+01 1.980e+02\n",
      " 6.070e+01 6.670e+01 1.430e+01 8.830e+01 7.470e+01 1.457e+02 9.470e+01\n",
      " 6.770e+01 1.200e+02 9.670e+01 6.300e+01 9.630e+01 1.593e+02 6.570e+01\n",
      " 7.000e+01 4.800e+01 6.870e+01 3.830e+01 2.830e+01 7.070e+01 1.020e+02\n",
      " 4.900e+01 3.170e+01 4.670e+01 1.423e+02 7.700e+01 3.627e+02 1.710e+02\n",
      " 1.830e+02 8.300e+01 7.400e+01 8.030e+01 7.200e+01 1.720e+02 1.007e+02\n",
      " 3.770e+01 1.180e+02 1.947e+02 6.970e+01 8.600e+01 6.530e+01 1.737e+02\n",
      " 7.900e+01 1.113e+02 1.990e+02 3.400e+01 1.237e+02 1.320e+02 9.100e+01\n",
      " 9.270e+01 4.370e+01 8.800e+01 6.330e+01 9.300e+01 1.430e+02 2.700e+02\n",
      " 1.567e+02 1.057e+02 1.000e+02 5.800e+01 1.163e+02 7.670e+01 1.503e+02\n",
      " 1.137e+02 9.230e+01 1.370e+02 1.347e+02 1.340e+02 8.970e+01 1.257e+02\n",
      " 6.600e+01 1.647e+02 1.433e+02 1.767e+02 8.670e+01 1.420e+02 1.887e+02\n",
      " 1.070e+02 1.443e+02 7.100e+01 1.413e+02 1.397e+02 1.100e+02 1.623e+02\n",
      " 9.030e+01 7.630e+01 1.600e+02 1.210e+02 1.847e+02 1.823e+02 1.477e+02\n",
      " 1.357e+02 6.630e+01 1.380e+02 1.080e+02 8.700e+01 6.430e+01 1.250e+02\n",
      " 4.930e+01 6.400e+01 3.117e+02 1.740e+02 1.493e+02 6.130e+01 9.570e+01\n",
      " 6.633e+02 1.387e+02 1.973e+02 1.117e+02 1.013e+02 1.467e+02 1.143e+02\n",
      " 1.173e+02 1.023e+02 8.200e+01 3.120e+02 1.247e+02 8.230e+01 1.450e+02\n",
      " 1.293e+02 1.967e+02 1.813e+02 7.970e+01 1.473e+02 1.607e+02 1.377e+02\n",
      " 1.270e+02 6.030e+01 1.027e+02 9.970e+01 1.037e+02 1.050e+02 7.500e+01\n",
      " 1.183e+02 1.517e+02 1.193e+02 1.550e+02 1.817e+02 9.430e+01 1.217e+02\n",
      " 2.503e+02 1.290e+02 1.743e+02 7.730e+01 1.690e+02 1.940e+02 2.057e+02\n",
      " 8.170e+01 1.733e+02 9.930e+01 1.140e+02 1.750e+02 8.770e+01 7.230e+01\n",
      " 1.570e+02 7.530e+01 2.033e+02 1.417e+02 3.260e+02 1.663e+02 7.870e+01\n",
      " 1.557e+02 1.667e+02 1.170e+02 2.950e+02 5.830e+01 1.327e+02 1.010e+02\n",
      " 1.787e+02 3.330e+02 1.230e+02 1.260e+02 1.063e+02 2.283e+02 1.897e+02\n",
      " 1.653e+02 9.370e+01 1.197e+02 1.103e+02 8.400e+01 1.400e+02 8.900e+01\n",
      " 1.297e+02 1.313e+02 1.390e+02 1.900e+02 1.277e+02 2.170e+02 1.130e+02\n",
      " 2.750e+02 1.590e+02 1.693e+02 1.670e+02 2.430e+02 9.800e+01 2.250e+02\n",
      " 2.243e+02 1.573e+02 1.107e+02 9.900e+01 1.087e+02 1.917e+02 2.063e+02\n",
      " 2.847e+02 1.707e+02 1.440e+02 1.850e+02 1.033e+02 1.167e+02 3.930e+02\n",
      " 8.930e+01 2.060e+02 1.220e+02 1.953e+02 1.053e+02 1.507e+02 2.120e+02\n",
      " 1.637e+02 1.673e+02 2.783e+02 8.870e+01 1.780e+02 1.757e+02 1.500e+02\n",
      " 9.170e+01 1.243e+02 1.303e+02 1.317e+02 1.807e+02 1.843e+02 1.543e+02\n",
      " 1.547e+02 1.253e+02 9.330e+01 2.297e+02 9.400e+01 9.200e+01 1.640e+02\n",
      " 2.220e+02 2.270e+02 1.853e+02 1.997e+02 1.700e+02]\n",
      "\n",
      "Unique CustomerCareCalls's count: 105\n",
      "[11.3  0.   7.3 22.   0.3  5.   0.7  3.3  1.   1.7  1.3  2.3  4.  10.\n",
      "  8.7  5.7  2.   3.  14.3 14.7 13.3 16.7  4.7  8.3  4.3  8.  11.7  6.\n",
      "  7.7  5.3  2.7 12.7 21.7 19.3 13.7 15.7  7.  30.7 10.3 30.   9.3  6.3\n",
      "  6.7  3.7 10.7  9.  12.  25.3 17.7 21.3 14.  15.  13.   9.7 34.3 18.7\n",
      " 12.3 26.3 26.  71.7 16.3 24.3 11.  20.7 29.3 28.3 26.7 20.3 15.3 19.7\n",
      " 28.  23.3 23.  33.  18.  21.  33.7 25.  16.  20.  19.  33.3 27.  46.3\n",
      " 30.3 23.7 25.7 24.7 22.3 24.  43.  17.3 18.3 66.3 17.  39.3 38.7 39.\n",
      " 32.3 85.7 61.3 39.7 29.7 44.  51.3]\n",
      "\n",
      "Unique ThreewayCalls's count: 39\n",
      "[ 0.   0.7  0.3  3.   2.3  2.   1.7  1.3  1.   2.7  3.7 24.7  5.   3.3\n",
      "  6.   4.7 13.   4.  41.7  6.3  5.3 11.7  4.3  9.3 16.7 10.   6.7 10.3\n",
      " 16.   8.7 11.3 17.3  7.7  7.3  9.   5.7 19.7 43.  12. ]\n",
      "\n",
      "Unique ReceivedCalls's count: 2594\n",
      "[136.3  23.1 198.5 ...  98.2  38.5 373.9]\n",
      "\n",
      "Unique OutboundCalls's count: 463\n",
      "[2.430e+01 6.000e+00 3.600e+01 3.270e+01 2.187e+02 1.000e+00 7.700e+00\n",
      " 3.000e+00 2.770e+01 1.400e+01 8.730e+01 5.100e+01 4.870e+01 2.200e+01\n",
      " 2.030e+01 2.157e+02 0.000e+00 1.230e+01 4.700e+00 2.730e+01 9.100e+01\n",
      " 4.000e+00 1.700e+01 1.170e+01 5.900e+01 4.230e+01 6.670e+01 5.700e+00\n",
      " 7.370e+01 1.600e+01 1.970e+01 3.000e-01 4.500e+01 5.800e+01 2.800e+01\n",
      " 8.530e+01 1.530e+01 7.200e+01 2.700e+01 1.930e+01 1.300e+01 3.243e+02\n",
      " 5.000e+00 1.730e+01 2.530e+01 1.670e+01 2.670e+01 1.700e+00 1.870e+01\n",
      " 1.300e+00 3.730e+01 1.570e+01 2.570e+01 1.500e+01 9.430e+01 2.630e+01\n",
      " 3.130e+01 1.430e+01 1.200e+01 1.070e+01 4.570e+01 8.300e+01 7.600e+01\n",
      " 2.300e+00 3.030e+01 2.500e+01 6.470e+01 3.700e+00 1.030e+01 6.300e+00\n",
      " 5.600e+01 7.870e+01 6.570e+01 3.700e+01 3.200e+01 7.000e+00 8.000e+00\n",
      " 2.000e+00 3.970e+01 6.700e+00 5.630e+01 1.900e+01 2.700e+00 8.330e+01\n",
      " 6.070e+01 6.970e+01 8.770e+01 1.800e+02 1.123e+02 3.830e+01 9.000e+00\n",
      " 5.500e+01 8.700e+00 4.370e+01 9.700e+01 5.030e+01 1.077e+02 1.630e+01\n",
      " 4.800e+01 3.900e+01 3.430e+01 2.230e+01 1.100e+01 7.000e-01 2.970e+01\n",
      " 3.400e+01 5.430e+01 2.270e+01 6.370e+01 2.000e+01 5.930e+01 1.190e+02\n",
      " 3.870e+01 1.130e+01 2.900e+01 2.070e+01 6.100e+01 3.530e+01 4.000e+01\n",
      " 6.700e+01 2.300e+01 1.280e+02 2.930e+01 1.000e+01 7.100e+01 5.470e+01\n",
      " 5.970e+01 3.300e+01 3.770e+01 3.323e+02 2.127e+02 4.900e+01 2.830e+01\n",
      " 2.470e+01 9.800e+01 5.300e+00 4.300e+01 9.300e+00 1.103e+02 3.230e+01\n",
      " 5.730e+01 7.830e+01 1.270e+01 7.230e+01 2.870e+01 8.100e+01 6.930e+01\n",
      " 1.800e+01 3.930e+01 1.770e+01 9.700e+00 3.100e+01 1.197e+02 3.470e+01\n",
      " 5.000e+01 4.700e+01 1.830e+01 9.770e+01 5.770e+01 7.530e+01 1.470e+01\n",
      " 1.127e+02 8.000e+01 3.300e+00 4.400e+01 6.430e+01 4.330e+01 4.930e+01\n",
      " 4.600e+01 1.973e+02 1.330e+01 2.600e+01 5.700e+01 1.263e+02 5.230e+01\n",
      " 7.000e+01 6.600e+01 1.357e+02 7.900e+01 2.230e+02 5.130e+01 1.013e+02\n",
      " 3.370e+01 4.730e+01 4.070e+01 6.830e+01 4.300e+00 7.300e+00 6.400e+01\n",
      " 3.070e+01 4.200e+01 4.130e+01 5.400e+01 4.830e+01 1.110e+02 8.870e+01\n",
      " 3.670e+01 5.330e+01 8.600e+01 3.330e+01 8.700e+01 8.470e+01 6.630e+01\n",
      " 1.010e+02 7.770e+01 8.300e+00 9.900e+01 9.230e+01 7.800e+01 4.770e+01\n",
      " 1.060e+02 1.370e+01 3.500e+01 7.500e+01 1.580e+02 8.200e+01 3.570e+01\n",
      " 2.400e+01 1.297e+02 6.200e+01 7.700e+01 6.500e+01 1.430e+02 4.530e+01\n",
      " 4.100e+01 2.130e+01 6.770e+01 8.430e+01 1.153e+02 6.300e+01 6.730e+01\n",
      " 7.730e+01 6.270e+01 9.070e+01 2.560e+02 1.160e+02 5.070e+01 7.670e+01\n",
      " 5.170e+01 1.380e+02 3.630e+01 8.830e+01 9.370e+01 1.343e+02 2.490e+02\n",
      " 2.330e+01 3.170e+01 3.800e+01 1.130e+02 7.130e+01 2.100e+01 1.033e+02\n",
      " 5.830e+01 6.030e+01 7.630e+01 9.530e+01 5.200e+01 4.030e+01 1.283e+02\n",
      " 1.727e+02 1.683e+02 4.970e+01 7.400e+01 7.300e+01 4.470e+01 4.170e+01\n",
      " 2.170e+01 1.360e+02 1.347e+02 4.670e+01 3.000e+01 1.187e+02 9.200e+01\n",
      " 9.470e+01 9.970e+01 8.630e+01 1.023e+02 9.170e+01 4.270e+01 2.247e+02\n",
      " 7.930e+01 1.193e+02 6.130e+01 7.170e+01 8.370e+01 6.170e+01 3.890e+02\n",
      " 5.270e+01 1.713e+02 2.250e+02 8.070e+01 1.223e+02 5.570e+01 1.490e+02\n",
      " 1.550e+02 8.230e+01 1.087e+02 5.670e+01 7.030e+01 6.230e+01 1.647e+02\n",
      " 2.713e+02 1.207e+02 1.633e+02 9.870e+01 8.670e+01 1.057e+02 7.270e+01\n",
      " 1.493e+02 8.130e+01 6.000e+01 7.470e+01 1.120e+02 1.210e+02 7.570e+01\n",
      " 7.330e+01 1.137e+02 7.070e+01 1.337e+02 9.570e+01 8.570e+01 2.690e+02\n",
      " 4.430e+01 2.370e+01 1.597e+02 6.870e+01 9.670e+01 9.930e+01 1.617e+02\n",
      " 9.500e+01 1.417e+02 1.170e+02 9.830e+01 5.530e+01 5.870e+01 8.030e+01\n",
      " 1.843e+02 1.143e+02 9.630e+01 6.530e+01 1.230e+02 1.307e+02 1.133e+02\n",
      " 6.900e+01 1.353e+02 1.040e+02 9.330e+01 2.697e+02 1.043e+02 5.370e+01\n",
      " 1.000e+02 1.737e+02 9.400e+01 8.170e+01 9.270e+01 2.570e+02 1.783e+02\n",
      " 2.643e+02 1.563e+02 2.020e+02 1.267e+02 1.027e+02 1.473e+02 6.330e+01\n",
      " 2.037e+02 1.063e+02 7.970e+01 8.500e+01 1.097e+02 9.300e+01 2.287e+02\n",
      " 1.767e+02 5.300e+01 2.017e+02 1.287e+02 2.337e+02 3.027e+02 9.030e+01\n",
      " 1.167e+02 1.640e+02 8.900e+01 1.510e+02 1.017e+02 3.933e+02 1.790e+02\n",
      " 1.183e+02 1.147e+02 4.630e+01 2.220e+02 1.073e+02 1.673e+02 1.483e+02\n",
      " 1.470e+02 3.430e+02 1.350e+02 1.453e+02 8.970e+01 1.393e+02 1.067e+02\n",
      " 3.707e+02 1.863e+02 8.800e+01 1.070e+02 7.430e+01 1.317e+02 1.457e+02\n",
      " 1.967e+02 1.247e+02 9.600e+01 1.600e+02 1.637e+02 1.763e+02 1.873e+02\n",
      " 1.560e+02 1.463e+02 2.133e+02 9.730e+01 1.293e+02 1.363e+02 1.383e+02\n",
      " 1.677e+02 1.100e+02 1.433e+02 1.310e+02 1.733e+02 1.387e+02 1.140e+02\n",
      " 1.593e+02 5.407e+02 1.037e+02 6.800e+01 1.853e+02 1.440e+02 2.213e+02\n",
      " 1.150e+02 1.420e+02 2.407e+02 1.480e+02 1.537e+02 1.117e+02 8.400e+01\n",
      " 1.547e+02 1.080e+02 1.413e+02 1.777e+02 2.447e+02 1.917e+02 1.290e+02\n",
      " 1.743e+02 9.000e+01 1.397e+02 1.180e+02 1.643e+02 1.323e+02 8.270e+01\n",
      " 1.723e+02 1.527e+02 3.797e+02 1.227e+02 2.567e+02 1.003e+02 1.173e+02\n",
      " 1.860e+02]\n",
      "\n",
      "Unique InboundCalls's count: 257\n",
      "[7.000e+00 2.300e+00 1.000e+01 3.000e+01 9.000e+00 0.000e+00 4.700e+00\n",
      " 9.700e+00 1.300e+01 1.570e+01 5.300e+00 1.700e+00 8.100e+01 3.300e+00\n",
      " 2.700e+00 1.130e+01 3.570e+01 1.100e+01 1.930e+01 6.300e+00 1.430e+01\n",
      " 7.000e-01 4.300e+00 7.830e+01 3.000e-01 6.700e+00 8.300e+00 1.070e+01\n",
      " 4.000e+00 1.300e+00 6.100e+01 1.000e+00 1.780e+02 8.000e+00 2.000e+00\n",
      " 3.700e+00 3.000e+00 3.870e+01 1.200e+01 8.700e+00 1.770e+01 4.770e+01\n",
      " 1.830e+01 1.470e+01 1.330e+01 2.270e+01 7.300e+00 1.670e+01 5.000e+00\n",
      " 3.600e+01 4.270e+01 7.430e+01 3.230e+01 9.370e+01 7.600e+01 2.100e+01\n",
      " 6.000e+00 2.000e+01 3.900e+01 2.330e+01 2.470e+01 1.870e+01 1.400e+01\n",
      " 1.700e+01 2.370e+01 6.030e+01 3.170e+01 1.030e+01 2.130e+01 9.300e+00\n",
      " 1.170e+01 1.370e+02 9.930e+01 2.300e+01 5.700e+00 3.030e+01 6.070e+01\n",
      " 4.430e+01 1.500e+01 5.430e+01 1.730e+01 5.170e+01 1.800e+01 2.400e+01\n",
      " 4.000e+01 1.630e+01 2.070e+01 2.530e+01 1.270e+01 1.900e+01 2.970e+01\n",
      " 2.870e+01 5.570e+01 2.170e+01 1.183e+02 2.200e+01 3.930e+01 6.630e+01\n",
      " 4.730e+01 4.400e+01 6.500e+01 7.000e+01 7.700e+00 2.600e+01 2.500e+01\n",
      " 3.700e+01 1.310e+02 3.200e+01 4.330e+01 3.330e+01 5.600e+01 2.230e+01\n",
      " 3.470e+01 1.230e+01 2.930e+01 3.500e+01 3.730e+01 5.630e+01 2.430e+01\n",
      " 1.530e+01 4.100e+01 5.900e+01 2.770e+01 3.530e+01 6.670e+01 3.800e+01\n",
      " 5.100e+01 1.030e+02 3.300e+01 1.600e+01 6.200e+01 3.670e+01 2.570e+01\n",
      " 3.130e+01 2.670e+01 2.700e+01 9.870e+01 6.000e+01 3.370e+01 1.327e+02\n",
      " 8.370e+01 4.800e+01 5.400e+01 2.830e+01 4.130e+01 8.670e+01 2.900e+01\n",
      " 1.840e+02 4.900e+01 1.970e+01 2.030e+01 1.370e+01 4.830e+01 4.700e+01\n",
      " 6.470e+01 2.180e+02 7.300e+01 1.730e+02 2.630e+01 3.270e+01 4.870e+01\n",
      " 4.230e+01 5.670e+01 4.300e+01 3.100e+01 5.200e+01 5.500e+01 3.830e+01\n",
      " 5.300e+01 8.030e+01 6.270e+01 5.330e+01 4.670e+01 3.070e+01 4.170e+01\n",
      " 6.170e+01 4.200e+01 7.630e+01 7.230e+01 5.370e+01 4.030e+01 1.147e+02\n",
      " 1.017e+02 8.630e+01 7.370e+01 5.530e+01 7.530e+01 2.800e+01 4.600e+01\n",
      " 3.770e+01 5.700e+01 3.430e+01 2.730e+01 4.570e+01 3.400e+01 7.500e+01\n",
      " 1.260e+02 5.730e+01 4.630e+01 1.393e+02 5.230e+01 1.093e+02 7.570e+01\n",
      " 4.930e+01 5.070e+01 8.330e+01 3.630e+01 9.070e+01 8.200e+01 4.530e+01\n",
      " 1.650e+02 1.167e+02 7.700e+01 1.077e+02 7.100e+01 6.800e+01 1.010e+02\n",
      " 6.770e+01 2.313e+02 4.970e+01 5.800e+01 4.470e+01 1.417e+02 1.157e+02\n",
      " 1.290e+02 3.970e+01 6.370e+01 6.600e+01 1.037e+02 1.470e+02 4.370e+01\n",
      " 9.000e+01 9.770e+01 9.270e+01 7.900e+01 3.447e+02 3.040e+02 5.830e+01\n",
      " 1.170e+02 7.130e+01 1.117e+02 5.030e+01 9.300e+01 4.500e+01 1.057e+02\n",
      " 1.003e+02 5.770e+01 7.030e+01 7.070e+01 6.700e+01 9.730e+01 6.570e+01\n",
      " 7.870e+01 9.470e+01 7.270e+01 1.020e+02 6.830e+01]\n",
      "\n",
      "Unique PeakCallsInOut's count: 1040\n",
      "[158.   31.3 113.7 ... 228.7 407.  475.3]\n",
      "\n",
      "Unique OffPeakCallsInOut's count: 937\n",
      "[9.4700e+01 2.1300e+01 1.1830e+02 9.5700e+01 2.0470e+02 1.0700e+01\n",
      " 1.6700e+01 5.0000e+01 1.8900e+02 7.0300e+01 2.4030e+02 2.7000e+01\n",
      " 7.5000e+01 4.4000e+01 2.4000e+01 3.5300e+01 4.5030e+02 0.0000e+00\n",
      " 4.5000e+01 4.3300e+01 6.6300e+01 1.4030e+02 2.4300e+01 9.3000e+00\n",
      " 4.8700e+01 5.3700e+01 2.0700e+02 6.0000e+00 1.8130e+02 2.4000e+02\n",
      " 1.3000e+00 1.1700e+01 3.4400e+02 2.6300e+01 3.6300e+01 3.5000e+01\n",
      " 1.5300e+01 2.2000e+01 1.0900e+02 4.8300e+01 2.3000e+01 2.6930e+02\n",
      " 7.5700e+01 1.1630e+02 9.2300e+01 6.5700e+01 5.9300e+01 5.6900e+02\n",
      " 8.1000e+01 1.1370e+02 8.1300e+01 6.3000e+00 1.0930e+02 2.6000e+01\n",
      " 2.5700e+01 1.7300e+01 5.7000e+00 2.9700e+01 5.4000e+01 1.7700e+01\n",
      " 4.5300e+01 1.3300e+01 3.0000e+00 3.2300e+02 1.4000e+01 1.8800e+02\n",
      " 4.7000e+01 2.2700e+01 6.3000e+01 3.6000e+01 1.8100e+02 2.3400e+02\n",
      " 3.1970e+02 1.0100e+02 7.0000e-01 3.0000e-01 4.7000e+00 9.7000e+00\n",
      " 3.3000e+00 8.7000e+00 4.9300e+01 2.2270e+02 1.4800e+02 9.3300e+01\n",
      " 1.0770e+02 4.0000e+00 1.2230e+02 3.7300e+01 7.0000e+00 6.7000e+00\n",
      " 2.7730e+02 5.7300e+01 6.1700e+01 3.2000e+01 1.5700e+02 4.3000e+00\n",
      " 3.4700e+01 2.1700e+01 5.0000e+00 2.3000e+00 1.4330e+02 1.1300e+01\n",
      " 4.1300e+01 2.5670e+02 9.6300e+01 4.2700e+01 1.9100e+02 3.5900e+02\n",
      " 2.6630e+02 3.1300e+01 3.0300e+01 1.5070e+02 6.5300e+01 1.1270e+02\n",
      " 1.1300e+02 2.0700e+01 1.0000e+00 3.1730e+02 3.7000e+00 1.3700e+02\n",
      " 6.9000e+01 7.1700e+01 1.6430e+02 4.8000e+01 7.4300e+01 2.4700e+01\n",
      " 1.3200e+02 3.0700e+01 1.2930e+02 1.1900e+02 4.9000e+01 8.7300e+01\n",
      " 6.8700e+01 1.8000e+01 4.2300e+01 1.2300e+02 6.2300e+01 1.0670e+02\n",
      " 1.3000e+01 2.1700e+02 1.5570e+02 8.1700e+01 6.6000e+01 7.6000e+01\n",
      " 1.9700e+01 2.0000e+00 2.1000e+01 1.7700e+02 1.6000e+02 7.0530e+02\n",
      " 2.2300e+01 1.1570e+02 1.6300e+02 1.7400e+02 2.7000e+00 4.0300e+01\n",
      " 7.5300e+01 1.6230e+02 2.1270e+02 1.4270e+02 4.7700e+01 2.4530e+02\n",
      " 8.0000e+00 9.4130e+02 1.1230e+02 2.9300e+01 5.5000e+01 4.6000e+01\n",
      " 1.7000e+00 6.3700e+01 1.4200e+02 1.5170e+02 1.2970e+02 1.0300e+01\n",
      " 5.8700e+01 9.0000e+00 1.6000e+01 1.7100e+02 9.4000e+01 1.9800e+02\n",
      " 1.9370e+02 1.4300e+01 1.1130e+02 9.2700e+01 1.7670e+02 7.6600e+02\n",
      " 3.1370e+02 1.1770e+02 1.2300e+01 6.7000e+01 1.0600e+02 2.0270e+02\n",
      " 2.9200e+02 1.6330e+02 1.2330e+02 3.9700e+01 3.9000e+01 4.0000e+01\n",
      " 8.3000e+01 5.3000e+00 4.4200e+02 9.8700e+01 1.8700e+01 1.6930e+02\n",
      " 3.5700e+01 2.5300e+01 8.9300e+01 6.5000e+01 1.0000e+01 5.7830e+02\n",
      " 4.6700e+01 1.6100e+02 2.9000e+01 3.7700e+01 1.6630e+02 3.4000e+01\n",
      " 6.8000e+01 1.5270e+02 2.3700e+01 7.3300e+01 5.1700e+01 8.4000e+01\n",
      " 3.2700e+01 2.5000e+01 1.3600e+02 4.1000e+01 2.3300e+01 1.2000e+01\n",
      " 1.7000e+01 3.7000e+01 2.7300e+01 1.8030e+02 3.2300e+01 9.5000e+01\n",
      " 1.2700e+01 2.6700e+01 2.8000e+01 8.2700e+01 1.5000e+01 1.2030e+02\n",
      " 2.2000e+02 4.1700e+01 1.5670e+02 1.9300e+01 5.5300e+01 3.0900e+02\n",
      " 9.7000e+01 1.9730e+02 1.1000e+01 8.0300e+01 3.1700e+01 8.5000e+01\n",
      " 6.3300e+01 8.0000e+01 4.2070e+02 7.6300e+01 2.8400e+02 2.2400e+02\n",
      " 1.4500e+02 5.0570e+02 1.4730e+02 1.4600e+02 9.0300e+01 2.1670e+02\n",
      " 6.2700e+01 9.8300e+01 6.8300e+01 4.1200e+02 7.6700e+02 1.7270e+02\n",
      " 1.0200e+02 1.9570e+02 8.6000e+01 5.1300e+01 8.7700e+01 1.3400e+02\n",
      " 9.6000e+01 2.5470e+02 5.4700e+01 7.9700e+01 1.2670e+02 1.6300e+01\n",
      " 5.6300e+01 1.4770e+02 2.5200e+02 2.3570e+02 3.3700e+01 1.9230e+02\n",
      " 1.8300e+02 3.8300e+01 1.2200e+02 1.3500e+02 2.8700e+01 3.9300e+01\n",
      " 1.7530e+02 1.5630e+02 1.1730e+02 2.9170e+02 1.7030e+02 1.9700e+02\n",
      " 6.1000e+01 2.3870e+02 9.8000e+01 1.3700e+01 2.1870e+02 2.2900e+02\n",
      " 3.2370e+02 5.2300e+01 1.2830e+02 1.8300e+01 1.0170e+02 2.1530e+02\n",
      " 7.2300e+01 1.3470e+02 3.6700e+01 1.5600e+02 4.3000e+01 6.0700e+01\n",
      " 2.0500e+02 1.7330e+02 4.7300e+01 1.2630e+02 1.0500e+02 5.0300e+01\n",
      " 2.5230e+02 2.1570e+02 1.8400e+02 4.9700e+01 2.0100e+02 3.7670e+02\n",
      " 1.7900e+02 7.7000e+00 2.1070e+02 1.1700e+02 8.3000e+00 8.0700e+01\n",
      " 1.4700e+01 7.8300e+01 1.1400e+02 8.5700e+01 2.1000e+02 3.0630e+02\n",
      " 9.3000e+01 1.1970e+02 9.0700e+01 2.6400e+02 5.5700e+01 8.2000e+01\n",
      " 5.7700e+01 6.1300e+01 3.3300e+01 3.2770e+02 3.3000e+02 1.7500e+02\n",
      " 1.1000e+02 1.7170e+02 7.2700e+01 1.6200e+02 1.0070e+02 2.7700e+01\n",
      " 7.0000e+01 1.0530e+02 1.0430e+02 1.1070e+02 2.1200e+02 1.1200e+02\n",
      " 6.2000e+01 1.0730e+02 7.8700e+01 6.7700e+01 1.3170e+02 9.1300e+01\n",
      " 7.4000e+01 1.3230e+02 1.8270e+02 8.6700e+01 2.0330e+02 1.4000e+02\n",
      " 1.9200e+02 5.5470e+02 1.5970e+02 1.6600e+02 6.0000e+01 3.4030e+02\n",
      " 1.4070e+02 1.2170e+02 7.8000e+01 3.4300e+01 1.6370e+02 9.7700e+01\n",
      " 2.0870e+02 2.0830e+02 1.1170e+02 2.5900e+02 1.7630e+02 7.7300e+01\n",
      " 2.4970e+02 7.7700e+01 4.2000e+01 3.7770e+02 8.8000e+01 1.1330e+02\n",
      " 1.5200e+02 3.4130e+02 1.0830e+02 3.0400e+02 1.0700e+02 1.5030e+02\n",
      " 2.0000e+01 1.9270e+02 2.4800e+02 5.5400e+02 6.4000e+01 9.1000e+01\n",
      " 8.5300e+01 1.8070e+02 4.6800e+02 4.0700e+01 8.9000e+01 5.2700e+01\n",
      " 6.6700e+01 1.4670e+02 2.8300e+01 4.6300e+01 5.3000e+01 4.4300e+01\n",
      " 4.8970e+02 4.7800e+02 1.9430e+02 3.8700e+01 7.6700e+01 3.9730e+02\n",
      " 1.0970e+02 3.3270e+02 1.3300e+02 1.9330e+02 1.2130e+02 7.3000e+00\n",
      " 3.8000e+01 1.3830e+02 5.3300e+01 1.4930e+02 7.3700e+01 5.1000e+01\n",
      " 7.2000e+01 7.7000e+01 2.1970e+02 6.4300e+01 7.1000e+01 1.4100e+02\n",
      " 4.3800e+02 1.3930e+02 7.0700e+01 7.4700e+01 2.0300e+01 8.4700e+01\n",
      " 1.8500e+02 5.4300e+01 1.4130e+02 5.0700e+01 1.5530e+02 2.0730e+02\n",
      " 3.3970e+02 5.8000e+01 5.9700e+01 1.1800e+02 7.9000e+01 2.5100e+02\n",
      " 1.7570e+02 2.3300e+02 6.1070e+02 5.2730e+02 2.6300e+02 1.9970e+02\n",
      " 2.0200e+02 2.2600e+02 9.3700e+01 3.3000e+01 1.3370e+02 1.3430e+02\n",
      " 1.1470e+02 1.7930e+02 4.5700e+01 6.9700e+01 1.3030e+02 2.7300e+02\n",
      " 5.8970e+02 1.2570e+02 8.8300e+01 1.6870e+02 7.1300e+01 2.3530e+02\n",
      " 2.5030e+02 4.3630e+02 1.3270e+02 1.4230e+02 2.9770e+02 5.6700e+01\n",
      " 2.0530e+02 9.6700e+01 4.1530e+02 3.3800e+02 5.9000e+01 3.9430e+02\n",
      " 6.4330e+02 9.9700e+01 5.6370e+02 1.5900e+02 1.2000e+02 2.0630e+02\n",
      " 3.0700e+02 1.5230e+02 1.5870e+02 1.0800e+02 6.9300e+01 2.3700e+02\n",
      " 3.6800e+02 3.4070e+02 1.5700e+01 1.7070e+02 2.9630e+02 1.1030e+02\n",
      " 1.6130e+02 6.4700e+01 3.0000e+01 1.5830e+02 1.0230e+02 1.0030e+02\n",
      " 1.4430e+02 3.4500e+02 1.2070e+02 4.9600e+02 2.0000e+02 2.6270e+02\n",
      " 2.4770e+02 1.2600e+02 5.2000e+01 9.4300e+01 1.6270e+02 1.4570e+02\n",
      " 1.2400e+02 1.4830e+02 2.6800e+02 2.3470e+02 2.3330e+02 2.3370e+02\n",
      " 8.8700e+01 2.6100e+02 3.1000e+01 9.5300e+01 2.1400e+02 9.0000e+01\n",
      " 7.3000e+01 3.1700e+02 2.7930e+02 2.9130e+02 8.4300e+01 2.5400e+02\n",
      " 2.2800e+02 1.7230e+02 1.4870e+02 3.7370e+02 2.4170e+02 3.5700e+02\n",
      " 9.1700e+01 2.9230e+02 1.9000e+01 1.0470e+02 1.6470e+02 2.1800e+02\n",
      " 1.4300e+02 1.3070e+02 4.8000e+02 7.9300e+01 1.1670e+02 1.0400e+02\n",
      " 2.2470e+02 1.8430e+02 2.2200e+02 1.4170e+02 1.0370e+02 9.9300e+01\n",
      " 2.0300e+02 1.9900e+02 1.7730e+02 3.1270e+02 4.0430e+02 1.4470e+02\n",
      " 2.1630e+02 6.7300e+01 3.2870e+02 2.1300e+02 5.3130e+02 2.6500e+02\n",
      " 3.8500e+02 1.0330e+02 1.6700e+02 1.5300e+02 3.8030e+02 2.7630e+02\n",
      " 2.1030e+02 2.0800e+02 4.1700e+02 4.0970e+02 4.3700e+01 1.2270e+02\n",
      " 2.0670e+02 1.0630e+02 3.7100e+02 1.9000e+02 1.8700e+02 1.1530e+02\n",
      " 8.3700e+01 2.5870e+02 8.3300e+01 4.4700e+01 1.3670e+02 1.3530e+02\n",
      " 1.2770e+02 2.5830e+02 4.0730e+02 2.4400e+02 1.6400e+02 2.7670e+02\n",
      " 2.0230e+02 1.9470e+02 1.9630e+02 1.3770e+02 1.6530e+02 6.0300e+01\n",
      " 1.5100e+02 2.4130e+02 1.6070e+02 3.6200e+02 4.8430e+02 2.0430e+02\n",
      " 2.6770e+02 3.4930e+02 1.3130e+02 7.5730e+02 3.1530e+02 2.2100e+02\n",
      " 1.4700e+02 1.3570e+02 1.3330e+02 1.8530e+02 2.9730e+02 2.0130e+02\n",
      " 2.7570e+02 6.3570e+02 2.2570e+02 2.2870e+02 1.2430e+02 2.7100e+02\n",
      " 2.7000e+02 3.6830e+02 2.5170e+02 1.0130e+02 2.8630e+02 1.2100e+02\n",
      " 2.1730e+02 4.0200e+02 8.7000e+01 3.6070e+02 7.5900e+02 3.7500e+02\n",
      " 1.1870e+02 2.4270e+02 3.9870e+02 1.4530e+02 1.0570e+02 1.2700e+02\n",
      " 2.4870e+02 2.7870e+02 1.7830e+02 2.0370e+02 1.4630e+02 2.6730e+02\n",
      " 2.3730e+02 1.9300e+02 2.6570e+02 2.9970e+02 2.2830e+02 5.7000e+01\n",
      " 1.5430e+02 2.3100e+02 3.4700e+02 5.6000e+01 1.2370e+02 1.9500e+02\n",
      " 6.0230e+02 1.9030e+02 2.6600e+02 2.1930e+02 2.8600e+02 1.8670e+02\n",
      " 5.7870e+02 5.3370e+02 3.4470e+02 2.8900e+02 1.3100e+02 2.0930e+02\n",
      " 2.2700e+02 3.9170e+02 2.4330e+02 5.7530e+02 3.3830e+02 1.0270e+02\n",
      " 2.9100e+02 2.9270e+02 1.4970e+02 1.8770e+02 1.1100e+02 3.0070e+02\n",
      " 1.2500e+02 1.5330e+02 1.8600e+02 1.2530e+02 5.8300e+01 2.4700e+02\n",
      " 1.7970e+02 4.4030e+02 5.5700e+02 1.8330e+02 4.9200e+02 2.2330e+02\n",
      " 1.0943e+03 1.6900e+02 1.8200e+02 1.5800e+02 4.0230e+02 3.2100e+02\n",
      " 4.9230e+02 2.2930e+02 1.3730e+02 8.2300e+01 1.3630e+02 4.7300e+02\n",
      " 3.2800e+02 2.8330e+02 2.7170e+02 3.9270e+02 2.6830e+02 6.5200e+02\n",
      " 2.5600e+02 1.5400e+02 4.3370e+02 1.6570e+02 3.0170e+02 2.1370e+02\n",
      " 8.9700e+01 2.4730e+02 1.9400e+02 2.2370e+02 6.8430e+02 1.4370e+02\n",
      " 2.9900e+02 8.0370e+02 2.0400e+02 4.7500e+02 4.6200e+02 3.1930e+02\n",
      " 3.5630e+02 2.5700e+02 6.3800e+02 1.8370e+02 5.8430e+02 2.6530e+02\n",
      " 1.5770e+02 1.0870e+02 6.2300e+02 4.1770e+02 8.6300e+01 2.5800e+02\n",
      " 2.8070e+02 4.0130e+02 1.6030e+02 3.0500e+02 1.8830e+02 1.9170e+02\n",
      " 5.2800e+02 6.3230e+02 1.2900e+02 4.3100e+02 2.6000e+02 2.4230e+02\n",
      " 3.7470e+02 1.2870e+02 1.6730e+02 1.3900e+02 4.5830e+02 1.9830e+02\n",
      " 1.3870e+02 1.5470e+02 1.6770e+02 2.8270e+02 2.2230e+02 1.5130e+02\n",
      " 4.7770e+02 9.7300e+01 2.5630e+02 7.8300e+02 2.5500e+02 2.8770e+02\n",
      " 1.8930e+02 5.9830e+02 4.0070e+02 4.6330e+02 1.1500e+02 2.1770e+02\n",
      " 4.7000e+02 3.8700e+02 4.0930e+02 2.7130e+02 1.2730e+02 1.6970e+02\n",
      " 1.9670e+02 1.8730e+02 2.5970e+02 2.7500e+02 2.1130e+02 2.4930e+02\n",
      " 2.6370e+02 5.1000e+02 1.9770e+02 3.6130e+02 4.4170e+02 1.6800e+02\n",
      " 1.5000e+02 1.0300e+02 3.3200e+02 3.6630e+02 2.1230e+02 2.2070e+02\n",
      " 2.2130e+02 2.4430e+02 1.3800e+02 3.6370e+02 1.7200e+02 3.0230e+02\n",
      " 1.8570e+02 2.3830e+02 2.7270e+02 5.9730e+02 3.5330e+02 1.6500e+02\n",
      " 3.0330e+02 6.3970e+02 2.6030e+02 2.3270e+02 2.3070e+02 2.3670e+02\n",
      " 2.6200e+02 1.3993e+03 1.5370e+02 1.3503e+03 1.8000e+02 9.3500e+02\n",
      " 1.5730e+02 2.1470e+02 2.4670e+02 1.2470e+02 1.5930e+02 1.9070e+02\n",
      " 1.0000e+02 3.0770e+02 1.6670e+02 3.3530e+02 2.0070e+02 1.8630e+02\n",
      " 5.1630e+02 2.5300e+02 2.5270e+02 2.0970e+02 2.7200e+02 4.6130e+02\n",
      " 2.5570e+02 8.2270e+02 4.3600e+02 6.7730e+02 3.3230e+02 2.0030e+02\n",
      " 3.5600e+02 1.3000e+02 3.4870e+02 2.3170e+02 4.8630e+02 2.8300e+02\n",
      " 2.1500e+02 1.7430e+02 1.3970e+02 1.7130e+02 3.4230e+02 5.6130e+02\n",
      " 2.7070e+02 4.2100e+02 9.2000e+01 1.7800e+02 2.4470e+02 2.9570e+02\n",
      " 3.9470e+02 2.6970e+02 4.5430e+02 3.1830e+02 1.5500e+02 2.0570e+02\n",
      " 3.5730e+02 4.4700e+02 2.3970e+02 2.7370e+02 1.8970e+02 1.1430e+02\n",
      " 2.8230e+02 2.7900e+02 1.9130e+02 1.1930e+02 4.3300e+02 3.4530e+02\n",
      " 2.8670e+02 4.2430e+02 1.7000e+02 2.2970e+02 1.8170e+02 2.9470e+02\n",
      " 3.8430e+02 1.4400e+02 6.0170e+02 6.1330e+02 4.7970e+02 3.3500e+02\n",
      " 2.2430e+02 2.7530e+02 2.3630e+02 3.3370e+02 3.8670e+02 3.5030e+02\n",
      " 2.1600e+02]\n",
      "\n",
      "Unique DroppedBlockedCalls's count: 249\n",
      "[ 11.3   0.7  11.    5.   25.3   2.7   4.7  14.    8.3   3.7   4.3  16.7\n",
      "   0.   12.3  41.7   2.    7.    6.3  19.7   6.   38.3  20.7   9.3  18.\n",
      "   5.3  13.3   3.3   7.7  26.7  43.   18.7   6.7   3.   54.7   1.7  15.3\n",
      "   1.3   9.7   1.    0.3  20.   24.   17.   42.   17.7   4.   31.   96.3\n",
      "   5.7  24.7  15.7  25.   10.  115.7   2.3  10.7  20.3  81.7  34.3  13.\n",
      "  26.3  14.3  35.3  21.3  32.3  26.    9.   16.3  10.3  32.7   7.3  12.7\n",
      "  30.   36.3  46.3  11.7  49.  128.   41.   34.7  60.3  15.    8.   23.\n",
      "  34.   45.   29.3  17.3  14.7  21.7  18.3  91.   13.7  19.3   8.7  39.7\n",
      "  12.   28.7  25.7  71.3  31.7  16.   58.3  78.7  40.7  22.7  35.7  45.3\n",
      "  23.7  24.3  41.3  31.3  21.  117.   23.3  69.7  53.3  39.3  38.   46.\n",
      "  22.   51.7  72.   19.   57.   22.3  70.   50.3  40.   27.3  37.3  33.\n",
      " 155.   85.7  29.7  27.7  53.7  40.3  30.3  37.7  30.7  43.7  48.   81.3\n",
      " 139.3  35.   62.7  83.   32.   44.7  39.  134.7  44.3  47.7  36.7  47.3\n",
      "  65.7  61.7  52.3  27.   53.   73.7  51.3 102.3  59.7  57.3  28.   33.7\n",
      "  68.7  36.   33.3  43.3  55.7  37.  120.3  68.  110.3  42.3 123.7  29.\n",
      "  73.3  46.7  69.3  86.   74.   59.   58.   60.7  64.7  48.7  91.3 123.3\n",
      "  47.   62.  150.   52.7  63.   48.3  44.   60.   61.   28.3  55.   38.7\n",
      " 128.7  42.7 121.  141.   82.   55.3  64.  126.3  68.3  63.7 135.  147.\n",
      "  50.7  71.7 143.   95.  122.3  54.   77.7 105.   63.3  65.   65.3  51.\n",
      "  93.   94.7  74.3  52.   45.7  95.3 159.3  71.   77.3  49.7 187.3  88.7\n",
      "  57.7 109.7  50.   83.3 138.7  86.7 162.   83.7 112.3]\n",
      "\n",
      "Unique CallForwardingCalls's count: 10\n",
      "[ 0.   2.3  0.3  0.7  1.  16.   1.3 31.3 81.3  2. ]\n",
      "\n",
      "Unique CallWaitingCalls's count: 116\n",
      "[  2.3   0.    3.3   0.7   0.3   5.7   1.7   1.3  13.7   7.    9.3  14.7\n",
      "   3.   10.3   1.   37.7   2.    8.7  15.   22.    2.7   4.7  17.3   5.\n",
      "  24.    6.3   7.3  12.3   9.7   3.7  20.    5.3  25.7   4.   11.7   4.3\n",
      "  13.3   7.7   6.7  22.7  10.7  11.   33.   16.   16.3  42.7  39.7  20.3\n",
      "   9.    8.   15.7  14.3  13.    6.   18.3  18.7  11.3  28.3  10.   16.7\n",
      "  15.3  17.7  12.7  17.   12.   61.3   8.3  42.   45.3  32.   26.   30.3\n",
      "  14.   37.  145.3  31.7  39.3 112.   34.7  26.7  18.   21.7  23.   67.3\n",
      "  28.7  43.7  59.7  24.7  27.   31.   92.7  29.3  29.   40.7  44.7 182.\n",
      "  24.3  21.  126.7  48.   21.3  87.3  19.3  25.3  30.   20.7  48.7  63.\n",
      "  23.7 105.3  80.   19.7  25.   26.3  28.   19. ]\n",
      "\n",
      "Unique MonthsInService's count: 54\n",
      "[20 22  7 18 34 25 11  9 16 35 12 14 13 24 15  6 28 10 27 32 38 17 19 29\n",
      " 36 26 23  8 21 39 45 33 57 31 46 30 50 51 44 40 37 42 41 47 52 43 49 53\n",
      " 54 56 55 58 59 48]\n",
      "\n",
      "Unique UniqueSubs's count: 8\n",
      "[ 1  4  2  3  5  6  7 10]\n",
      "\n",
      "Unique ActiveSubs's count: 8\n",
      "[1 4 2 3 5 0 9 6]\n",
      "\n",
      "Unique ServiceArea's count: 519\n",
      "['APCFCH703' 'LOULEX606' 'OMAOMA402' 'NSHNSH615' 'DALDAL214' 'HARBRI203'\n",
      " 'SAUS512' 'HARNOR203' 'KCYKCK913' 'SFROAK510' 'SFRSFR415' 'DENBOU303'\n",
      " 'SANGEO512' 'NYCMAN917' 'HOUHOU281' 'SANKIL254' 'CHIRCK815' 'CHILAG708'\n",
      " 'NYCNEW201' 'NEVPOW619' 'NYCPAS973' 'NNYBUF716' 'FLNORL407' 'LAXSAN714'\n",
      " 'NEVSDG619' 'APCBAL410' 'NYCBRO917' 'BOSMAN603' 'OHICOL614' 'FLNTAL850'\n",
      " 'SEABEA503' 'AIRCOL803' 'BOSBOS978' 'LAXSMN310' 'HOUCON409' 'INDIND317'\n",
      " 'CHILAG630' 'CHICHI773' 'DALFTW817' 'LOULOU502' 'KCYLAW913' 'MIAFTM941'\n",
      " 'DETWYN734' 'DETPON248' 'LAXIND760' 'NNYSYR315' 'MIAFTL954' 'OHIBER440'\n",
      " 'KCYTOP913' 'NYCSUF516' 'SEASEA206' 'OHICIN513' 'BOSBOS617' 'SANSAN210'\n",
      " 'NMXALB505' 'OMAAMS515' 'LAXMON323' 'LAXONT909' 'FLNOGC904' 'APCSIL301'\n",
      " 'OHILAN740' 'SEAALB541' 'DENDEN303' 'NCRVIR757' 'ATLMAC912' 'NYCNEW732'\n",
      " 'BOSBOS508' 'AIRCHA843' 'MIADEL561' 'NYCFHD732' 'SFRSAC916' 'HARWAT203'\n",
      " 'NYCWHI914' 'PHIPHI215' 'AIRAUG706' 'NYCQUE917' 'NYCNEW908' 'LAXDOW562'\n",
      " 'MIADFD954' 'NCRRIC804' 'PHXGLE623' 'PHXPHX602' 'CHIPEO309' 'NYCS516'\n",
      " 'CHIGRY219' 'FLNWNP407' 'PHIARD610' 'NNYALB518' 'MIANDA305' 'SANMCA210'\n",
      " 'SANLAM512' 'NCRRAL919' 'AIRGOL919' 'ATLATL678' 'HARHAR860' 'ATLNOR678'\n",
      " 'NMXELP915' 'LAXLAX213' 'DETTOL419' 'MINMIN612' 'NYCNEW973' 'OHIWOO330'\n",
      " 'BOSPRO401' 'BOSFRA508' 'HOUSPR832' 'ATLMEM901' 'LAXCDG310' 'SFRSCL408'\n",
      " 'NCRCHA704' 'FLNBRD941' 'NOLKEN504' 'OHICOV606' 'DENCOL719' 'LAXCOV626'\n",
      " 'MINSTP612' 'NSHSPR615' 'NEVLMS619' 'OHIAKR330' 'NCRGRB757' 'KCYKCM816'\n",
      " 'NNYROC716' 'FLNTAM813' 'LAXALB626' 'APCFRD301' 'HWIHON808' 'NMXLUB806'\n",
      " 'ATLTUN601' 'HOUFRE409' 'NEVLVS702' 'APCWES443' 'NEVENC760' 'FLNKIS407'\n",
      " 'SEATAC253' 'APCANN443' 'DENGRE970' 'CHINBK847' 'STLSTL314' 'ATLANE678'\n",
      " 'MIAMIA305' 'KCYWIC316' 'BOSWOR508' 'GCWLAF337' 'DALKAU469' 'HARNEW203'\n",
      " 'NORROC507' 'SFRSRO707' 'PHXTUC520' 'CHICHI312' 'DETDET313' 'SANCRP512'\n",
      " 'SLCSLC801' 'PHITRT609' 'SEAEVE425' 'FLNCLR813' 'NCRFAY910' 'VAHROA540'\n",
      " 'AIRGRN252' 'STLJEF573' 'MILMAD608' 'LAXA714' 'DETTRO248' 'NORMAN507'\n",
      " 'SFRDAN925' 'NMXSAN505' 'DETLAN517' 'PITFOR412' 'NCRPOR757' 'OKCEMP316'\n",
      " 'MIAHWD954' 'CHIDAV319' 'CHIBLO309' 'OKCTUL918' 'BIRBIR205' 'MIAPOR941'\n",
      " 'STLJOS816' 'LAXRIV909' 'LAXBEV310' 'SHEHAG301' 'DETMON734' 'FLNEUS352'\n",
      " 'LAXCOR909' 'ATLDTN706' 'DETROS810' 'OHITRT937' 'AIRFLO843' 'AWIMAN920'\n",
      " 'APCWAS202' 'DENGLD303' 'DETANN734' 'FLNSAG904' 'FLNJAC904' 'KCYNEW316'\n",
      " 'NCRSPN910' 'LAXLAX323' 'LAXALA562' 'MIAP941' 'AIRGRE864' 'NMXLAR956'\n",
      " 'INHFTW219' 'ATLROS678' 'OHIWAR330' 'SFRSMO650' 'OHIYNG330' 'DALCOM903'\n",
      " 'OHIMAN419' 'SEAPOR503' 'MILMIL414' 'DETFLI810' 'NVUREN775' 'OHHCHA304'\n",
      " 'INHSBN219' 'PITROC412' nan 'SLCPRO801' 'MILWAU262' 'MIAVER561'\n",
      " 'LAXIRV949' 'AIRASH828' 'SEWYAK509' 'SFRPAL650' 'PHIAVD610' 'BOSPTL207'\n",
      " 'NCRNWN757' 'BOSBOS781' 'OHILRN440' 'PITHOM412' 'LAUCLM662' 'NEVELC619'\n",
      " 'SEABLV425' 'MILKEN414' 'NEVOCN760' 'SANSMC512' 'FLNNPR813' 'FLNOCA352'\n",
      " 'SEAOLY360' 'OHINEW740' 'CHISPR217' 'CHIDEC217' 'OHHCHI740' 'INDLAF765'\n",
      " 'NCRDUR919' 'SHECHA717' 'STLJOP417' 'OHICAN330' 'LAXSBN909' 'PHICTR610'\n",
      " 'SFROAK925' 'FLNLEE352' 'NYCPLS609' 'PHIMER609' 'LAXLAG949' 'DALMVN903'\n",
      " 'LAXBUR818' 'LAXOAK805' 'HOUANG409' 'FLNSAR941' 'LAXPAS626' 'AIRWIL910'\n",
      " 'KCYHUT316' 'OMADES515' 'PHXSCO480' 'MIAWPB561' 'OHICLE216' 'IPMGDR616'\n",
      " 'NSHCOL615' 'APCFRE540' 'MINCOR763' 'IPMHOL616' 'OHIDAY937' 'LAXVNY818'\n",
      " 'DETBAT616' 'SHEHAR540' 'FLNWNH941' 'ATLATH706' 'NCRKAN704' 'VAHCHL804'\n",
      " 'OKCWIC940' 'SDASFL605' 'AWIAPP920' 'NCRCRY919' 'OKCOKC405' 'STLCOL618'\n",
      " 'PHIPLS609' 'FLNGAN352' 'AWIGRE920' 'AIRMYR843' 'DENVAL970' 'NMXSAN915'\n",
      " 'OMAIWC319' 'OKCLRK501' 'OKCLAW580' 'PHICHC215' 'APCLEE703' 'SLCOGD801'\n",
      " 'NMXABI915' 'SEAVAN360' 'PHIWIL302' 'NCRGRE336' 'CHIJOL815' 'ATLKNO423'\n",
      " 'OMALNC402' 'OHIMED330' 'NMCPUE719' 'FLNDAY904' 'NEVCHU619' 'STLCPG573'\n",
      " 'OHISGF937' 'PHIMUL609' 'LAXSJC949' 'NMXTER915' 'AIRNWB252' 'DETBWG419'\n",
      " 'NCRMID704' 'NYCCIT914' 'NCRPTR804' 'NCRWLM757' 'NMXEAG830' 'SEASPO509'\n",
      " 'NORRDW651' 'NMXDEL830' 'SFRCRU831' 'ATLCOL706' 'NCRWIN336' 'PITCAR412'\n",
      " 'STLCMB573' 'SHEWIN540' 'DETKAL616' 'SANTEM254' 'HOUBRN409' 'LAUJAC601'\n",
      " 'NORSTC320' 'FLNZEP813' 'NMXLCR505' 'PHISAL856' 'ATHHAM423' 'HOUGLV409'\n",
      " 'FLNCOC407' 'MIAMAR305' 'OHHHUN304' 'SLCKAY801' 'AIRSPA864' 'ATHKIN423'\n",
      " 'FLNLAK941' 'STLCHE636' 'NMXAMA806' 'OKCARD580' 'NCRCHE757' 'LAXING310'\n",
      " 'SEAMTV360' 'SFRCBL408' 'AIRAND864' 'ATLOVB601' 'BOSNSH603' 'NNYPOU914'\n",
      " 'OKCEND580' 'AIRORA803' 'SEACDA208' 'SFRSFS650' 'PHIJEN215' 'SANKER830'\n",
      " 'MIASUG305' 'MIAPSL561' 'ATLDOT334' 'DALSHR903' 'DETSOU248' 'NEVESC760'\n",
      " 'LAXOXN805' 'DALCRS903' 'STLOZA573' 'FLNSAN407' 'HARLON860' 'SEAABN253'\n",
      " 'APCSVP443' 'OKCBAR918' 'OHHJAC740' 'LOUL812' 'PITGIB412' 'SEASAL503'\n",
      " 'OHILAW812' 'LAXVEN805' 'APCWAR540' 'ATLCHA423' 'HWIMAU808' 'STLCHA636'\n",
      " 'CHICHA217' 'HOULJK409' 'BOSBRA781' 'INDMUN765' 'OHIPSV440' 'NCRSIC919'\n",
      " 'CHIROC309' 'MINBLO952' 'OHHMTA740' 'OKCFTS501' 'SFRSGS530' 'LAXCUL310'\n",
      " 'HARSPR413' 'NYCMTK914' 'AIRSAV912' 'NYCTMR732' 'AIRJAC910' 'LAXSFN818'\n",
      " 'SFRDSR925' 'LAXPSG760' 'FLNCRY352' 'OMACDR319' 'SANCOC254' 'SHEFTR540'\n",
      " 'NEVCOR619' 'NORZIM763' 'HOUHUN936' 'PITMON412' 'BOSHYA508' 'DALDTN940'\n",
      " 'OHIOXF513' 'SFRWLC925' 'AIRHIC828' 'SEASIL360' 'FLNSMY904' 'STLSPR417'\n",
      " 'SEABLG360' 'KCYWAR660' 'APCSAL443' 'DETFER248' 'OKCMAN785' 'PITCOR412'\n",
      " 'MILRAC414' 'OHIHAR330' 'SHEMAR304' 'OKCMUS918' 'PHICAP609' 'SEAEUG541'\n",
      " 'LOUFRK502' 'NYCJER201' 'FLNBEL352' 'ATLALB912' 'OHIAUR330' 'PITMNG412'\n",
      " 'ATLBRU912' 'OHHGAL740' 'NMXYUM520' 'NYCWOO732' 'PHIELK443' 'OHIKEN330'\n",
      " 'PHIMIV856' 'SEWMLF541' 'OMAGRN515' 'ATLDAL334' 'LAXPER909' 'INHCEL419'\n",
      " 'NNYUTI315' 'NCRWAK919' 'FLNSTK904' 'SFRHAY510' 'PITBUT412' 'AWIFON920'\n",
      " 'SFRWOO530' 'AWISHE920' 'OKCFAY501' 'DALSLS903' 'SHEYOR717' 'SEALEW208'\n",
      " 'MILJNC920' 'AIRGWD864' 'AIRAIK803' 'AIRBEA843' 'APCBEL443' 'PHIALL484'\n",
      " 'LOUCOR812' 'GCWBTR225' 'FLNSEB863' 'OHHATH740' 'PHIWLW609' 'OHIELY440'\n",
      " 'OHIMRY937' 'NYCETT732' 'OKCCHC405' 'FLNINV352' 'LOUETN502' 'PITUNT412'\n",
      " 'IPMSAG517' 'NEVLAU702' 'CHICPT219' 'PITIND724' 'PITNEW412' 'AWIOSH920'\n",
      " 'NCRASH336' 'SEACOR541' 'OHISAN419' 'NYCPLA908' 'PHIVIN609' 'OKCSAL785'\n",
      " 'CHIDEK815' 'SHEEDI540' 'SFRROC916' 'NORDUL218' 'SEWKEN509' 'OHICLB330'\n",
      " 'GCWGUL228' 'MIAKEY305' 'FLRC863' 'AIRSUM803' 'FLNBAR863' 'OHHWAV740'\n",
      " 'OHIDEL740' 'NMXFLA520' 'OHHMOR304' 'OHIASH419' 'ATHJHC423' 'LAXLAN661'\n",
      " 'INDCIC317' 'PITGRE412' 'HOUBMT409' 'NYCKPT732' 'VAHRAD540' 'SEWGTP541'\n",
      " 'VAHDAN804' 'DALDEN903' 'PHIDOV302' 'PHIGEO302']\n",
      "\n",
      "Unique Handsets's count: 15\n",
      "[ 4  2  1  5  3 16  6  8  7  9 13 11 10 19 12]\n",
      "\n",
      "Unique HandsetModels's count: 10\n",
      "[ 1  2  4  3  9  5  8  7  6 10]\n",
      "\n",
      "Unique CurrentEquipmentDays's count: 1091\n",
      "[ 298  659  182 ...  987 1592  976]\n",
      "\n",
      "Unique AgeHH1's count: 40\n",
      "[58. 28.  0. 52. 24. 34. 44. 38. 26. 32. 30. 36. 74. 46. 40. 68. 60. 48.\n",
      " 56. nan 42. 54. 22. 72. 50. 20. 62. 98. 76. 66. 70. 64. 84. 80. 82. 78.\n",
      " 94. 88. 90. 86. 18.]\n",
      "\n",
      "Unique AgeHH2's count: 42\n",
      "[58.  0. 50. 54. 36. 40. 30. 38. 68. 60. 44. 32. 88. 34. nan 42. 46. 52.\n",
      " 18. 72. 70. 48. 66. 62. 74. 20. 76. 22. 24. 56. 26. 64. 28. 78. 86. 80.\n",
      " 82. 92. 96. 98. 90. 94. 84.]\n",
      "\n",
      "Unique ChildrenInHH's count: 2\n",
      "['No' 'Yes']\n",
      "\n",
      "Unique HandsetRefurbished's count: 2\n",
      "['No' 'Yes']\n",
      "\n",
      "Unique HandsetWebCapable's count: 2\n",
      "['Yes' 'No']\n",
      "\n",
      "Unique TruckOwner's count: 2\n",
      "['No' 'Yes']\n",
      "\n",
      "Unique RVOwner's count: 2\n",
      "['No' 'Yes']\n",
      "\n",
      "Unique Homeownership's count: 1\n",
      "['Known' nan]\n",
      "\n",
      "Unique BuysViaMailOrder's count: 2\n",
      "['Yes' 'No']\n",
      "\n",
      "Unique RespondsToMailOffers's count: 2\n",
      "['Yes' 'No']\n",
      "\n",
      "Unique OptOutMailings's count: 2\n",
      "['No' 'Yes']\n",
      "\n",
      "Unique NonUSTravel's count: 2\n",
      "['No' 'Yes']\n",
      "\n",
      "Unique OwnsComputer's count: 2\n",
      "['No' 'Yes']\n",
      "\n",
      "Unique HasCreditCard's count: 2\n",
      "['Yes' 'No']\n",
      "\n",
      "Unique RetentionCalls's count: 4\n",
      "[0 1 4 2]\n",
      "\n",
      "Unique RetentionOffersAccepted's count: 4\n",
      "[0 1 3 2]\n",
      "\n",
      "Unique NewCellphoneUser's count: 2\n",
      "['No' 'Yes']\n",
      "\n",
      "Unique NotNewCellphoneUser's count: 2\n",
      "['No' 'Yes']\n",
      "\n",
      "Unique ReferralsMadeBySubscriber's count: 6\n",
      "[0 1 2 6 7 3]\n",
      "\n",
      "Unique IncomeGroup's count: 10\n",
      "[8 7 0 5 6 3 9 1 4 2]\n",
      "\n",
      "Unique OwnsMotorcycle's count: 2\n",
      "['No' 'Yes']\n",
      "\n",
      "Unique AdjustmentsToCreditRating's count: 8\n",
      "[0 3 1 2 6 9 5 4]\n",
      "\n",
      "Unique HandsetPrice's count: 15\n",
      "[150.  80. 130.  30.  nan 100.  10. 200.  60. 400. 250. 500.  40. 240.\n",
      " 180. 300.]\n",
      "\n",
      "Unique MadeCallToRetentionTeam's count: 2\n",
      "['No' 'Yes']\n",
      "\n",
      "Unique CreditRating's count: 7\n",
      "['2-High' '5-Low' '6-VeryLow' '3-Good' '1-Highest' '4-Medium' '7-Lowest']\n",
      "\n",
      "Unique PrizmCode's count: 4\n",
      "['Other' 'Suburban' 'Town' 'Rural']\n",
      "\n",
      "Unique Occupation's count: 8\n",
      "['Other' 'Professiol' 'Crafts' 'Retired' 'Clerical' 'Self' 'Student'\n",
      " 'Homemaker']\n",
      "\n",
      "Unique MaritalStatus's count: 2\n",
      "['Yes' 'No' nan]\n",
      "\n",
      "Unique Churn's count: 2\n",
      "['Yes' 'No']\n",
      "\n"
     ]
    }
   ],
   "source": [
    "# How many Unique values are there in each column and what are those unique values?\n",
    "for i in dataset.columns:\n",
    "    print(f\"Unique {i}'s count: {dataset[i].nunique()}\")\n",
    "    print(f\"{dataset[i].unique()}\\n\")"
   ]
  },
  {
   "cell_type": "code",
   "execution_count": 13,
   "id": "65426f16",
   "metadata": {},
   "outputs": [
    {
     "data": {
      "text/plain": [
       "No     4569\n",
       "Yes    1811\n",
       "Name: Churn, dtype: int64"
      ]
     },
     "execution_count": 13,
     "metadata": {},
     "output_type": "execute_result"
    }
   ],
   "source": [
    "# Does the dataset upholds any class imbalance issues?\n",
    "dataset[\"Churn\"].value_counts()"
   ]
  },
  {
   "cell_type": "markdown",
   "id": "8d3c568b",
   "metadata": {},
   "source": [
    "## Dealing with Missing Values"
   ]
  },
  {
   "cell_type": "code",
   "execution_count": 14,
   "id": "8fd334e3",
   "metadata": {
    "scrolled": false
   },
   "outputs": [
    {
     "data": {
      "text/plain": [
       "29.99     136\n",
       "34.99     101\n",
       "30.26      59\n",
       "49.99      47\n",
       "10.00      46\n",
       "         ... \n",
       "93.24       1\n",
       "57.31       1\n",
       "94.14       1\n",
       "47.75       1\n",
       "103.63      1\n",
       "Name: MonthlyRevenue, Length: 4065, dtype: int64"
      ]
     },
     "execution_count": 14,
     "metadata": {},
     "output_type": "execute_result"
    }
   ],
   "source": [
    "dataset[\"MonthlyRevenue\"].value_counts()"
   ]
  },
  {
   "cell_type": "code",
   "execution_count": 15,
   "id": "6b4ad155",
   "metadata": {},
   "outputs": [
    {
     "data": {
      "text/plain": [
       "0"
      ]
     },
     "execution_count": 15,
     "metadata": {},
     "output_type": "execute_result"
    }
   ],
   "source": [
    "# 0.329% of the Missing value in \"MonthlyRevenue\" column\n",
    "# Replace the missing value with the mean \n",
    "\n",
    "dataset['MonthlyRevenue'] = dataset['MonthlyRevenue'].fillna(dataset['MonthlyRevenue'].mean()).round(2)\n",
    "\n",
    "# Checking if still there is any Null value left\n",
    "dataset[\"MonthlyRevenue\"].isnull().sum()"
   ]
  },
  {
   "cell_type": "code",
   "execution_count": 16,
   "id": "83f449f1",
   "metadata": {
    "scrolled": true
   },
   "outputs": [
    {
     "data": {
      "text/plain": [
       "0.0       102\n",
       "2.0        28\n",
       "96.0       20\n",
       "18.0       19\n",
       "134.0      19\n",
       "         ... \n",
       "1370.0      1\n",
       "2738.0      1\n",
       "665.0       1\n",
       "959.0       1\n",
       "1071.0      1\n",
       "Name: MonthlyMinutes, Length: 1618, dtype: int64"
      ]
     },
     "execution_count": 16,
     "metadata": {},
     "output_type": "execute_result"
    }
   ],
   "source": [
    "dataset[\"MonthlyMinutes\"].value_counts()"
   ]
  },
  {
   "cell_type": "code",
   "execution_count": 17,
   "id": "9334b7a5",
   "metadata": {},
   "outputs": [
    {
     "data": {
      "text/plain": [
       "0"
      ]
     },
     "execution_count": 17,
     "metadata": {},
     "output_type": "execute_result"
    }
   ],
   "source": [
    "# 0.329% of the Missing value in \"MonthlyMinutes\" column\n",
    "# Replace the missing value with the mean \n",
    "\n",
    "dataset['MonthlyMinutes'] = dataset['MonthlyMinutes'].fillna(dataset['MonthlyMinutes'].mean()).round(1)\n",
    "\n",
    "# Checking if still there is any Null value left\n",
    "dataset[\"MonthlyMinutes\"].isnull().sum()"
   ]
  },
  {
   "cell_type": "code",
   "execution_count": 18,
   "id": "daf7d5cc",
   "metadata": {},
   "outputs": [
    {
     "data": {
      "text/plain": [
       "30.0     922\n",
       "45.0     828\n",
       "40.0     561\n",
       "60.0     531\n",
       "50.0     525\n",
       "        ... \n",
       "186.0      1\n",
       "107.0      1\n",
       "180.0      1\n",
       "94.0       1\n",
       "151.0      1\n",
       "Name: TotalRecurringCharge, Length: 152, dtype: int64"
      ]
     },
     "execution_count": 18,
     "metadata": {},
     "output_type": "execute_result"
    }
   ],
   "source": [
    "dataset[\"TotalRecurringCharge\"].value_counts()"
   ]
  },
  {
   "cell_type": "code",
   "execution_count": 19,
   "id": "662390a3",
   "metadata": {},
   "outputs": [
    {
     "data": {
      "text/plain": [
       "0"
      ]
     },
     "execution_count": 19,
     "metadata": {},
     "output_type": "execute_result"
    }
   ],
   "source": [
    "# 0.329% of the Missing value in \"TotalRecurringCharge\" column\n",
    "# Replace the missing value with the mean \n",
    "\n",
    "dataset['TotalRecurringCharge'] = dataset['TotalRecurringCharge'].fillna(dataset['TotalRecurringCharge'].mean()).round(1)\n",
    "\n",
    "# Checking if still there is any Null value left\n",
    "dataset[\"TotalRecurringCharge\"].isnull().sum()"
   ]
  },
  {
   "cell_type": "code",
   "execution_count": 20,
   "id": "44efdd4e",
   "metadata": {},
   "outputs": [
    {
     "data": {
      "text/plain": [
       "0.00     2997\n",
       "0.25      827\n",
       "0.50      508\n",
       "0.74      369\n",
       "0.99      246\n",
       "         ... \n",
       "19.55       1\n",
       "15.84       1\n",
       "45.05       1\n",
       "11.14       1\n",
       "20.30       1\n",
       "Name: DirectorAssistedCalls, Length: 85, dtype: int64"
      ]
     },
     "execution_count": 20,
     "metadata": {},
     "output_type": "execute_result"
    }
   ],
   "source": [
    "dataset[\"DirectorAssistedCalls\"].value_counts()"
   ]
  },
  {
   "cell_type": "code",
   "execution_count": 21,
   "id": "00fc8f05",
   "metadata": {},
   "outputs": [
    {
     "data": {
      "text/plain": [
       "0"
      ]
     },
     "execution_count": 21,
     "metadata": {},
     "output_type": "execute_result"
    }
   ],
   "source": [
    "# 0.329% of the Missing value in \"DirectorAssistedCalls\" column\n",
    "# Replace the missing value with the mean \n",
    "\n",
    "dataset['DirectorAssistedCalls'] = dataset['DirectorAssistedCalls'].fillna(dataset['DirectorAssistedCalls'].mean()).round(2)\n",
    "\n",
    "# Checking if still there is any Null value left\n",
    "dataset[\"DirectorAssistedCalls\"].isnull().sum()"
   ]
  },
  {
   "cell_type": "code",
   "execution_count": 22,
   "id": "4251ee29",
   "metadata": {},
   "outputs": [
    {
     "data": {
      "text/plain": [
       "0.0      2928\n",
       "2.0       142\n",
       "1.0       119\n",
       "4.0        95\n",
       "6.0        78\n",
       "         ... \n",
       "570.0       1\n",
       "329.0       1\n",
       "363.0       1\n",
       "255.0       1\n",
       "478.0       1\n",
       "Name: OverageMinutes, Length: 376, dtype: int64"
      ]
     },
     "execution_count": 22,
     "metadata": {},
     "output_type": "execute_result"
    }
   ],
   "source": [
    "dataset[\"OverageMinutes\"].value_counts()"
   ]
  },
  {
   "cell_type": "code",
   "execution_count": 23,
   "id": "10a54139",
   "metadata": {},
   "outputs": [
    {
     "data": {
      "text/plain": [
       "0"
      ]
     },
     "execution_count": 23,
     "metadata": {},
     "output_type": "execute_result"
    }
   ],
   "source": [
    "# 0.329% of the Missing value in \"OverageMinutes\" column\n",
    "# Replace the missing value with the mean \n",
    "\n",
    "dataset['OverageMinutes'] = dataset['OverageMinutes'].fillna(dataset['OverageMinutes'].mean()).round(1)\n",
    "\n",
    "# Checking if still there is any Null value left\n",
    "dataset[\"OverageMinutes\"].isnull().sum()"
   ]
  },
  {
   "cell_type": "code",
   "execution_count": 24,
   "id": "0cd4d6e3",
   "metadata": {},
   "outputs": [
    {
     "data": {
      "text/plain": [
       "0.0     4396\n",
       "0.2      216\n",
       "0.1      176\n",
       "0.3      147\n",
       "0.5      117\n",
       "        ... \n",
       "36.4       1\n",
       "23.0       1\n",
       "10.7       1\n",
       "44.9       1\n",
       "40.4       1\n",
       "Name: RoamingCalls, Length: 229, dtype: int64"
      ]
     },
     "execution_count": 24,
     "metadata": {},
     "output_type": "execute_result"
    }
   ],
   "source": [
    "dataset[\"RoamingCalls\"].value_counts()"
   ]
  },
  {
   "cell_type": "code",
   "execution_count": 25,
   "id": "7e4688bb",
   "metadata": {
    "scrolled": true
   },
   "outputs": [
    {
     "data": {
      "text/plain": [
       "0"
      ]
     },
     "execution_count": 25,
     "metadata": {},
     "output_type": "execute_result"
    }
   ],
   "source": [
    "# 0.329% of the Missing value in \"RoamingCalls\" column\n",
    "# Replace the missing value with the mean \n",
    "\n",
    "dataset['RoamingCalls'] = dataset['RoamingCalls'].fillna(dataset['RoamingCalls'].mean()).round(1)\n",
    "\n",
    "# Checking if still there is any Null value left\n",
    "dataset[\"RoamingCalls\"].isnull().sum()"
   ]
  },
  {
   "cell_type": "code",
   "execution_count": 26,
   "id": "d7ebdc65",
   "metadata": {},
   "outputs": [
    {
     "data": {
      "text/plain": [
       " 0.0      163\n",
       "-2.0       65\n",
       "-6.0       57\n",
       "-4.0       55\n",
       "-8.0       53\n",
       "         ... \n",
       " 484.0      1\n",
       "-582.0      1\n",
       " 209.0      1\n",
       "-494.0      1\n",
       "-414.0      1\n",
       "Name: PercChangeMinutes, Length: 1159, dtype: int64"
      ]
     },
     "execution_count": 26,
     "metadata": {},
     "output_type": "execute_result"
    }
   ],
   "source": [
    "dataset[\"PercChangeMinutes\"].value_counts()"
   ]
  },
  {
   "cell_type": "code",
   "execution_count": 27,
   "id": "1c37eed1",
   "metadata": {},
   "outputs": [
    {
     "data": {
      "text/plain": [
       "0"
      ]
     },
     "execution_count": 27,
     "metadata": {},
     "output_type": "execute_result"
    }
   ],
   "source": [
    "# 0.658% of the Missing value in \"PercChangeMinutes\" column\n",
    "# Replace the missing value with the mean \n",
    "\n",
    "dataset['PercChangeMinutes'] = dataset['PercChangeMinutes'].fillna(dataset['PercChangeMinutes'].mean()).round(1)\n",
    "\n",
    "# Checking if still there is any Null value left\n",
    "dataset[\"PercChangeMinutes\"].isnull().sum()"
   ]
  },
  {
   "cell_type": "code",
   "execution_count": 28,
   "id": "2ae4b076",
   "metadata": {},
   "outputs": [
    {
     "data": {
      "text/plain": [
       " 0.0     717\n",
       "-0.2     190\n",
       "-0.3     180\n",
       "-0.5     114\n",
       "-0.4      83\n",
       "        ... \n",
       " 59.7      1\n",
       " 93.8      1\n",
       "-69.9      1\n",
       "-63.4      1\n",
       " 75.7      1\n",
       "Name: PercChangeRevenues, Length: 1328, dtype: int64"
      ]
     },
     "execution_count": 28,
     "metadata": {},
     "output_type": "execute_result"
    }
   ],
   "source": [
    "dataset[\"PercChangeRevenues\"].value_counts()             "
   ]
  },
  {
   "cell_type": "code",
   "execution_count": 29,
   "id": "5057ac37",
   "metadata": {},
   "outputs": [
    {
     "data": {
      "text/plain": [
       "0"
      ]
     },
     "execution_count": 29,
     "metadata": {},
     "output_type": "execute_result"
    }
   ],
   "source": [
    "# 0.658% of the Missing value in \"PercChangeRevenues\" column\n",
    "# Replace the missing value with the mean \n",
    "\n",
    "dataset['PercChangeRevenues'] = dataset['PercChangeRevenues'].fillna(dataset['PercChangeRevenues'].mean()).round(1)\n",
    "\n",
    "# Checking if still there is any Null value left\n",
    "dataset[\"PercChangeRevenues\"].isnull().sum()"
   ]
  },
  {
   "cell_type": "code",
   "execution_count": 30,
   "id": "fa0a63bc",
   "metadata": {},
   "outputs": [
    {
     "data": {
      "text/plain": [
       "NYCBRO917    204\n",
       "DALDAL214    191\n",
       "HOUHOU281    160\n",
       "NYCMAN917    143\n",
       "APCFCH703    116\n",
       "            ... \n",
       "LAXPSG760      1\n",
       "SANCOC254      1\n",
       "SHEFTR540      1\n",
       "NORZIM763      1\n",
       "PHIGEO302      1\n",
       "Name: ServiceArea, Length: 519, dtype: int64"
      ]
     },
     "execution_count": 30,
     "metadata": {},
     "output_type": "execute_result"
    }
   ],
   "source": [
    "dataset[\"ServiceArea\"].value_counts()"
   ]
  },
  {
   "cell_type": "code",
   "execution_count": 31,
   "id": "96c0987b",
   "metadata": {},
   "outputs": [
    {
     "data": {
      "text/plain": [
       "0"
      ]
     },
     "execution_count": 31,
     "metadata": {},
     "output_type": "execute_result"
    }
   ],
   "source": [
    "# 0.047% of the Missing value in \"ServiceArea\" column\n",
    "# Replace the missing value with the mean \n",
    "\n",
    "dataset['ServiceArea'] = dataset['ServiceArea'].fillna(dataset['ServiceArea'].value_counts().index[0])\n",
    "\n",
    "# Checking if still there is any Null value left\n",
    "dataset[\"ServiceArea\"].isnull().sum()"
   ]
  },
  {
   "cell_type": "code",
   "execution_count": 32,
   "id": "da5a03b4",
   "metadata": {},
   "outputs": [
    {
     "data": {
      "text/plain": [
       "0.0     1767\n",
       "36.0     272\n",
       "50.0     263\n",
       "40.0     261\n",
       "42.0     257\n",
       "46.0     255\n",
       "38.0     249\n",
       "30.0     240\n",
       "44.0     239\n",
       "52.0     229\n",
       "34.0     229\n",
       "48.0     221\n",
       "32.0     221\n",
       "54.0     220\n",
       "28.0     195\n",
       "26.0     190\n",
       "56.0     171\n",
       "58.0     127\n",
       "60.0     115\n",
       "24.0     107\n",
       "22.0      62\n",
       "62.0      58\n",
       "64.0      53\n",
       "66.0      37\n",
       "20.0      34\n",
       "68.0      33\n",
       "72.0      32\n",
       "70.0      29\n",
       "74.0      24\n",
       "76.0      23\n",
       "80.0      14\n",
       "82.0      11\n",
       "78.0      10\n",
       "84.0       7\n",
       "18.0       4\n",
       "88.0       3\n",
       "86.0       3\n",
       "94.0       2\n",
       "90.0       2\n",
       "98.0       1\n",
       "Name: AgeHH1, dtype: int64"
      ]
     },
     "execution_count": 32,
     "metadata": {},
     "output_type": "execute_result"
    }
   ],
   "source": [
    "dataset[\"AgeHH1\"].value_counts()             "
   ]
  },
  {
   "cell_type": "code",
   "execution_count": 33,
   "id": "d9fc05e9",
   "metadata": {},
   "outputs": [
    {
     "data": {
      "text/plain": [
       "0"
      ]
     },
     "execution_count": 33,
     "metadata": {},
     "output_type": "execute_result"
    }
   ],
   "source": [
    "# 1.72% of the Missing value in \"AgeHH1\" column\n",
    "# Replace the missing value with the mean \n",
    "\n",
    "dataset['AgeHH1'] = dataset['AgeHH1'].fillna(dataset['AgeHH1'].mean()).round(1)\n",
    "\n",
    "# Checking if still there is any Null value left\n",
    "dataset[\"AgeHH1\"].isnull().sum()"
   ]
  },
  {
   "cell_type": "code",
   "execution_count": 34,
   "id": "02f6e178",
   "metadata": {},
   "outputs": [
    {
     "data": {
      "text/plain": [
       "0.0     3273\n",
       "46.0     190\n",
       "52.0     180\n",
       "42.0     168\n",
       "36.0     167\n",
       "40.0     160\n",
       "30.0     160\n",
       "48.0     160\n",
       "44.0     157\n",
       "50.0     150\n",
       "34.0     149\n",
       "38.0     140\n",
       "54.0     130\n",
       "32.0     125\n",
       "56.0     103\n",
       "28.0     101\n",
       "26.0      97\n",
       "24.0      68\n",
       "58.0      68\n",
       "60.0      63\n",
       "22.0      54\n",
       "62.0      53\n",
       "20.0      44\n",
       "66.0      39\n",
       "64.0      38\n",
       "70.0      36\n",
       "68.0      33\n",
       "74.0      29\n",
       "72.0      28\n",
       "18.0      24\n",
       "76.0      21\n",
       "78.0      18\n",
       "80.0      15\n",
       "82.0       9\n",
       "88.0       8\n",
       "86.0       4\n",
       "90.0       2\n",
       "84.0       2\n",
       "92.0       1\n",
       "96.0       1\n",
       "98.0       1\n",
       "94.0       1\n",
       "Name: AgeHH2, dtype: int64"
      ]
     },
     "execution_count": 34,
     "metadata": {},
     "output_type": "execute_result"
    }
   ],
   "source": [
    "dataset[\"AgeHH2\"].value_counts()             "
   ]
  },
  {
   "cell_type": "code",
   "execution_count": 35,
   "id": "bb8313ce",
   "metadata": {},
   "outputs": [
    {
     "data": {
      "text/plain": [
       "0"
      ]
     },
     "execution_count": 35,
     "metadata": {},
     "output_type": "execute_result"
    }
   ],
   "source": [
    "# 1.72% of the Missing value in \"AgeHH2\" column\n",
    "# Replace the missing value with the mean \n",
    "\n",
    "dataset['AgeHH2'] = dataset['AgeHH2'].fillna(dataset['AgeHH2'].mean()).round(1)\n",
    "\n",
    "# Checking if still there is any Null value left\n",
    "dataset[\"AgeHH2\"].isnull().sum()"
   ]
  },
  {
   "cell_type": "code",
   "execution_count": 36,
   "id": "dae92da4",
   "metadata": {},
   "outputs": [
    {
     "data": {
      "text/plain": [
       "Known    4259\n",
       "Name: Homeownership, dtype: int64"
      ]
     },
     "execution_count": 36,
     "metadata": {},
     "output_type": "execute_result"
    }
   ],
   "source": [
    "dataset[\"Homeownership\"].value_counts()"
   ]
  },
  {
   "cell_type": "code",
   "execution_count": 37,
   "id": "e86b8cf4",
   "metadata": {},
   "outputs": [
    {
     "data": {
      "text/plain": [
       "0"
      ]
     },
     "execution_count": 37,
     "metadata": {},
     "output_type": "execute_result"
    }
   ],
   "source": [
    "# 33.244% of the Missing value in \"Homeownership\" column\n",
    "# Replace the missing value with the mean \n",
    "\n",
    "dataset['Homeownership'] = dataset['Homeownership'].fillna(dataset['Homeownership'].value_counts().index[0])\n",
    "\n",
    "# Checking if still there is any Null value left\n",
    "dataset[\"Homeownership\"].isnull().sum()"
   ]
  },
  {
   "cell_type": "code",
   "execution_count": 38,
   "id": "3848240f",
   "metadata": {},
   "outputs": [
    {
     "data": {
      "text/plain": [
       "30.0     910\n",
       "150.0    518\n",
       "130.0    250\n",
       "80.0     245\n",
       "10.0     240\n",
       "60.0     233\n",
       "100.0    165\n",
       "200.0    162\n",
       "40.0      32\n",
       "400.0     11\n",
       "250.0      6\n",
       "300.0      3\n",
       "500.0      2\n",
       "240.0      2\n",
       "180.0      2\n",
       "Name: HandsetPrice, dtype: int64"
      ]
     },
     "execution_count": 38,
     "metadata": {},
     "output_type": "execute_result"
    }
   ],
   "source": [
    "dataset[\"HandsetPrice\"].value_counts()"
   ]
  },
  {
   "cell_type": "code",
   "execution_count": 39,
   "id": "21caf3a7",
   "metadata": {},
   "outputs": [
    {
     "data": {
      "text/plain": [
       "0"
      ]
     },
     "execution_count": 39,
     "metadata": {},
     "output_type": "execute_result"
    }
   ],
   "source": [
    "# 56.411% (less than 60%) of the Missing value in \"HandsetPrice\" column\n",
    "# Replace the missing value with the mean \n",
    "\n",
    "dataset['HandsetPrice'] = dataset['HandsetPrice'].fillna(dataset['HandsetPrice'].value_counts().index[0])\n",
    "\n",
    "# Checking if still there is any Null value left\n",
    "dataset[\"HandsetPrice\"].isnull().sum()"
   ]
  },
  {
   "cell_type": "code",
   "execution_count": 40,
   "id": "700270c3",
   "metadata": {},
   "outputs": [
    {
     "data": {
      "text/plain": [
       "Yes    2367\n",
       "No     1576\n",
       "Name: MaritalStatus, dtype: int64"
      ]
     },
     "execution_count": 40,
     "metadata": {},
     "output_type": "execute_result"
    }
   ],
   "source": [
    "dataset[\"MaritalStatus\"].value_counts()"
   ]
  },
  {
   "cell_type": "code",
   "execution_count": 41,
   "id": "2bf09c7e",
   "metadata": {
    "scrolled": true
   },
   "outputs": [
    {
     "data": {
      "text/plain": [
       "0"
      ]
     },
     "execution_count": 41,
     "metadata": {},
     "output_type": "execute_result"
    }
   ],
   "source": [
    "# 38.197% of the Missing value in \"MaritalStatus\" column\n",
    "# Replace the missing value with the mean \n",
    "\n",
    "dataset['MaritalStatus'] = dataset['MaritalStatus'].fillna(dataset['MaritalStatus'].value_counts().index[0])\n",
    "\n",
    "# Checking if still there is any Null value left\n",
    "dataset[\"MaritalStatus\"].isnull().sum()"
   ]
  },
  {
   "cell_type": "code",
   "execution_count": 42,
   "id": "12a877bc",
   "metadata": {},
   "outputs": [
    {
     "data": {
      "text/plain": [
       "No     4569\n",
       "Yes    1811\n",
       "Name: Churn, dtype: int64"
      ]
     },
     "execution_count": 42,
     "metadata": {},
     "output_type": "execute_result"
    }
   ],
   "source": [
    "dataset[\"Churn\"].value_counts()"
   ]
  },
  {
   "cell_type": "code",
   "execution_count": 43,
   "id": "cd4b2cf8",
   "metadata": {},
   "outputs": [
    {
     "data": {
      "text/plain": [
       "<AxesSubplot:xlabel='Churn', ylabel='count'>"
      ]
     },
     "execution_count": 43,
     "metadata": {},
     "output_type": "execute_result"
    },
    {
     "data": {
      "image/png": "[encoded data removed]",
      "text/plain": [
       "<Figure size 432x288 with 1 Axes>"
      ]
     },
     "metadata": {
      "needs_background": "light"
     },
     "output_type": "display_data"
    }
   ],
   "source": [
    "# Target variable distribution is showing that the dataset is imbalanced:\n",
    "sns.countplot(x=dataset.Churn)"
   ]
  },
  {
   "cell_type": "code",
   "execution_count": 44,
   "id": "245eacc2",
   "metadata": {},
   "outputs": [],
   "source": [
    "# To save the cleaned dataset to your preferred location, please change the file location\n",
    "# This dataset will be used in Step 2: Data Preprocessing\n",
    "\n",
    "dataset.to_csv(r'C:\\Users\\Admin\\Downloads\\Dataset.csv', index = False)"
   ]
  }
 ],
 "metadata": {
  "kernelspec": {
   "display_name": "Python 3",
   "language": "python",
   "name": "python3"
  },
  "language_info": {
   "codemirror_mode": {
    "name": "ipython",
    "version": 3
   },
   "file_extension": ".py",
   "mimetype": "text/x-python",
   "name": "python",
   "nbconvert_exporter": "python",
   "pygments_lexer": "ipython3",
   "version": "3.8.8"
  }
 },
 "nbformat": 4,
 "nbformat_minor": 5
}
